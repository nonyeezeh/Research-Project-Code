{
  "nbformat": 4,
  "nbformat_minor": 0,
  "metadata": {
    "colab": {
      "provenance": [],
      "authorship_tag": "ABX9TyO06N2aMGcLEQTPnW5LVpbM",
      "include_colab_link": true
    },
    "kernelspec": {
      "name": "python3",
      "display_name": "Python 3"
    },
    "language_info": {
      "name": "python"
    },
    "widgets": {
      "application/vnd.jupyter.widget-state+json": {
        "253303d7bc43401992895d5bf6e8dddb": {
          "model_module": "@jupyter-widgets/controls",
          "model_name": "HBoxModel",
          "model_module_version": "1.5.0",
          "state": {
            "_dom_classes": [],
            "_model_module": "@jupyter-widgets/controls",
            "_model_module_version": "1.5.0",
            "_model_name": "HBoxModel",
            "_view_count": null,
            "_view_module": "@jupyter-widgets/controls",
            "_view_module_version": "1.5.0",
            "_view_name": "HBoxView",
            "box_style": "",
            "children": [
              "IPY_MODEL_179c51b9a51f4f6b9fccb5b4dbcc7d69",
              "IPY_MODEL_5c02744fcde5407bb482ffafad3d1c78",
              "IPY_MODEL_20d801b6abc34ad3935f4778d8f9fc23"
            ],
            "layout": "IPY_MODEL_2d1bf70a57bf40948e31de7d26ca98b0"
          }
        },
        "179c51b9a51f4f6b9fccb5b4dbcc7d69": {
          "model_module": "@jupyter-widgets/controls",
          "model_name": "HTMLModel",
          "model_module_version": "1.5.0",
          "state": {
            "_dom_classes": [],
            "_model_module": "@jupyter-widgets/controls",
            "_model_module_version": "1.5.0",
            "_model_name": "HTMLModel",
            "_view_count": null,
            "_view_module": "@jupyter-widgets/controls",
            "_view_module_version": "1.5.0",
            "_view_name": "HTMLView",
            "description": "",
            "description_tooltip": null,
            "layout": "IPY_MODEL_241600a81727411db9fe50719969eb9b",
            "placeholder": "​",
            "style": "IPY_MODEL_c600914173d4414c84532e741c9bfb93",
            "value": "  0%"
          }
        },
        "5c02744fcde5407bb482ffafad3d1c78": {
          "model_module": "@jupyter-widgets/controls",
          "model_name": "FloatProgressModel",
          "model_module_version": "1.5.0",
          "state": {
            "_dom_classes": [],
            "_model_module": "@jupyter-widgets/controls",
            "_model_module_version": "1.5.0",
            "_model_name": "FloatProgressModel",
            "_view_count": null,
            "_view_module": "@jupyter-widgets/controls",
            "_view_module_version": "1.5.0",
            "_view_name": "ProgressView",
            "bar_style": "danger",
            "description": "",
            "description_tooltip": null,
            "layout": "IPY_MODEL_af09184aee4245a6aa41cb9c1361756e",
            "max": 1000000,
            "min": 0,
            "orientation": "horizontal",
            "style": "IPY_MODEL_cb97e05e643b467e8d1805fb031756e8",
            "value": 3
          }
        },
        "20d801b6abc34ad3935f4778d8f9fc23": {
          "model_module": "@jupyter-widgets/controls",
          "model_name": "HTMLModel",
          "model_module_version": "1.5.0",
          "state": {
            "_dom_classes": [],
            "_model_module": "@jupyter-widgets/controls",
            "_model_module_version": "1.5.0",
            "_model_name": "HTMLModel",
            "_view_count": null,
            "_view_module": "@jupyter-widgets/controls",
            "_view_module_version": "1.5.0",
            "_view_name": "HTMLView",
            "description": "",
            "description_tooltip": null,
            "layout": "IPY_MODEL_d1d426bd03d345d6a1f78dc68951a916",
            "placeholder": "​",
            "style": "IPY_MODEL_0636018624234812b155ac5f5e3d279f",
            "value": " 3/1000000 [00:00&lt;5:15:24, 52.84it/s]"
          }
        },
        "2d1bf70a57bf40948e31de7d26ca98b0": {
          "model_module": "@jupyter-widgets/base",
          "model_name": "LayoutModel",
          "model_module_version": "1.2.0",
          "state": {
            "_model_module": "@jupyter-widgets/base",
            "_model_module_version": "1.2.0",
            "_model_name": "LayoutModel",
            "_view_count": null,
            "_view_module": "@jupyter-widgets/base",
            "_view_module_version": "1.2.0",
            "_view_name": "LayoutView",
            "align_content": null,
            "align_items": null,
            "align_self": null,
            "border": null,
            "bottom": null,
            "display": null,
            "flex": null,
            "flex_flow": null,
            "grid_area": null,
            "grid_auto_columns": null,
            "grid_auto_flow": null,
            "grid_auto_rows": null,
            "grid_column": null,
            "grid_gap": null,
            "grid_row": null,
            "grid_template_areas": null,
            "grid_template_columns": null,
            "grid_template_rows": null,
            "height": null,
            "justify_content": null,
            "justify_items": null,
            "left": null,
            "margin": null,
            "max_height": null,
            "max_width": null,
            "min_height": null,
            "min_width": null,
            "object_fit": null,
            "object_position": null,
            "order": null,
            "overflow": null,
            "overflow_x": null,
            "overflow_y": null,
            "padding": null,
            "right": null,
            "top": null,
            "visibility": null,
            "width": null
          }
        },
        "241600a81727411db9fe50719969eb9b": {
          "model_module": "@jupyter-widgets/base",
          "model_name": "LayoutModel",
          "model_module_version": "1.2.0",
          "state": {
            "_model_module": "@jupyter-widgets/base",
            "_model_module_version": "1.2.0",
            "_model_name": "LayoutModel",
            "_view_count": null,
            "_view_module": "@jupyter-widgets/base",
            "_view_module_version": "1.2.0",
            "_view_name": "LayoutView",
            "align_content": null,
            "align_items": null,
            "align_self": null,
            "border": null,
            "bottom": null,
            "display": null,
            "flex": null,
            "flex_flow": null,
            "grid_area": null,
            "grid_auto_columns": null,
            "grid_auto_flow": null,
            "grid_auto_rows": null,
            "grid_column": null,
            "grid_gap": null,
            "grid_row": null,
            "grid_template_areas": null,
            "grid_template_columns": null,
            "grid_template_rows": null,
            "height": null,
            "justify_content": null,
            "justify_items": null,
            "left": null,
            "margin": null,
            "max_height": null,
            "max_width": null,
            "min_height": null,
            "min_width": null,
            "object_fit": null,
            "object_position": null,
            "order": null,
            "overflow": null,
            "overflow_x": null,
            "overflow_y": null,
            "padding": null,
            "right": null,
            "top": null,
            "visibility": null,
            "width": null
          }
        },
        "c600914173d4414c84532e741c9bfb93": {
          "model_module": "@jupyter-widgets/controls",
          "model_name": "DescriptionStyleModel",
          "model_module_version": "1.5.0",
          "state": {
            "_model_module": "@jupyter-widgets/controls",
            "_model_module_version": "1.5.0",
            "_model_name": "DescriptionStyleModel",
            "_view_count": null,
            "_view_module": "@jupyter-widgets/base",
            "_view_module_version": "1.2.0",
            "_view_name": "StyleView",
            "description_width": ""
          }
        },
        "af09184aee4245a6aa41cb9c1361756e": {
          "model_module": "@jupyter-widgets/base",
          "model_name": "LayoutModel",
          "model_module_version": "1.2.0",
          "state": {
            "_model_module": "@jupyter-widgets/base",
            "_model_module_version": "1.2.0",
            "_model_name": "LayoutModel",
            "_view_count": null,
            "_view_module": "@jupyter-widgets/base",
            "_view_module_version": "1.2.0",
            "_view_name": "LayoutView",
            "align_content": null,
            "align_items": null,
            "align_self": null,
            "border": null,
            "bottom": null,
            "display": null,
            "flex": null,
            "flex_flow": null,
            "grid_area": null,
            "grid_auto_columns": null,
            "grid_auto_flow": null,
            "grid_auto_rows": null,
            "grid_column": null,
            "grid_gap": null,
            "grid_row": null,
            "grid_template_areas": null,
            "grid_template_columns": null,
            "grid_template_rows": null,
            "height": null,
            "justify_content": null,
            "justify_items": null,
            "left": null,
            "margin": null,
            "max_height": null,
            "max_width": null,
            "min_height": null,
            "min_width": null,
            "object_fit": null,
            "object_position": null,
            "order": null,
            "overflow": null,
            "overflow_x": null,
            "overflow_y": null,
            "padding": null,
            "right": null,
            "top": null,
            "visibility": null,
            "width": null
          }
        },
        "cb97e05e643b467e8d1805fb031756e8": {
          "model_module": "@jupyter-widgets/controls",
          "model_name": "ProgressStyleModel",
          "model_module_version": "1.5.0",
          "state": {
            "_model_module": "@jupyter-widgets/controls",
            "_model_module_version": "1.5.0",
            "_model_name": "ProgressStyleModel",
            "_view_count": null,
            "_view_module": "@jupyter-widgets/base",
            "_view_module_version": "1.2.0",
            "_view_name": "StyleView",
            "bar_color": null,
            "description_width": ""
          }
        },
        "d1d426bd03d345d6a1f78dc68951a916": {
          "model_module": "@jupyter-widgets/base",
          "model_name": "LayoutModel",
          "model_module_version": "1.2.0",
          "state": {
            "_model_module": "@jupyter-widgets/base",
            "_model_module_version": "1.2.0",
            "_model_name": "LayoutModel",
            "_view_count": null,
            "_view_module": "@jupyter-widgets/base",
            "_view_module_version": "1.2.0",
            "_view_name": "LayoutView",
            "align_content": null,
            "align_items": null,
            "align_self": null,
            "border": null,
            "bottom": null,
            "display": null,
            "flex": null,
            "flex_flow": null,
            "grid_area": null,
            "grid_auto_columns": null,
            "grid_auto_flow": null,
            "grid_auto_rows": null,
            "grid_column": null,
            "grid_gap": null,
            "grid_row": null,
            "grid_template_areas": null,
            "grid_template_columns": null,
            "grid_template_rows": null,
            "height": null,
            "justify_content": null,
            "justify_items": null,
            "left": null,
            "margin": null,
            "max_height": null,
            "max_width": null,
            "min_height": null,
            "min_width": null,
            "object_fit": null,
            "object_position": null,
            "order": null,
            "overflow": null,
            "overflow_x": null,
            "overflow_y": null,
            "padding": null,
            "right": null,
            "top": null,
            "visibility": null,
            "width": null
          }
        },
        "0636018624234812b155ac5f5e3d279f": {
          "model_module": "@jupyter-widgets/controls",
          "model_name": "DescriptionStyleModel",
          "model_module_version": "1.5.0",
          "state": {
            "_model_module": "@jupyter-widgets/controls",
            "_model_module_version": "1.5.0",
            "_model_name": "DescriptionStyleModel",
            "_view_count": null,
            "_view_module": "@jupyter-widgets/base",
            "_view_module_version": "1.2.0",
            "_view_name": "StyleView",
            "description_width": ""
          }
        },
        "8c7c12bc5af94419928872a8368dbd33": {
          "model_module": "@jupyter-widgets/controls",
          "model_name": "HBoxModel",
          "model_module_version": "1.5.0",
          "state": {
            "_dom_classes": [],
            "_model_module": "@jupyter-widgets/controls",
            "_model_module_version": "1.5.0",
            "_model_name": "HBoxModel",
            "_view_count": null,
            "_view_module": "@jupyter-widgets/controls",
            "_view_module_version": "1.5.0",
            "_view_name": "HBoxView",
            "box_style": "",
            "children": [
              "IPY_MODEL_2d536a553be14f2f8e806b1fa8f1ec0c",
              "IPY_MODEL_ad5f4c6b35f64af9a4233604c67b0050",
              "IPY_MODEL_7fb258ca38b84051904e2ba6dd509dca"
            ],
            "layout": "IPY_MODEL_6daffd9505954d02807c593fb4ec6f74"
          }
        },
        "2d536a553be14f2f8e806b1fa8f1ec0c": {
          "model_module": "@jupyter-widgets/controls",
          "model_name": "HTMLModel",
          "model_module_version": "1.5.0",
          "state": {
            "_dom_classes": [],
            "_model_module": "@jupyter-widgets/controls",
            "_model_module_version": "1.5.0",
            "_model_name": "HTMLModel",
            "_view_count": null,
            "_view_module": "@jupyter-widgets/controls",
            "_view_module_version": "1.5.0",
            "_view_name": "HTMLView",
            "description": "",
            "description_tooltip": null,
            "layout": "IPY_MODEL_afabc506b38d4dbeb937435b25f973c4",
            "placeholder": "​",
            "style": "IPY_MODEL_2aee98d13475465ba9a59cdca821d8f5",
            "value": "  0%"
          }
        },
        "ad5f4c6b35f64af9a4233604c67b0050": {
          "model_module": "@jupyter-widgets/controls",
          "model_name": "FloatProgressModel",
          "model_module_version": "1.5.0",
          "state": {
            "_dom_classes": [],
            "_model_module": "@jupyter-widgets/controls",
            "_model_module_version": "1.5.0",
            "_model_name": "FloatProgressModel",
            "_view_count": null,
            "_view_module": "@jupyter-widgets/controls",
            "_view_module_version": "1.5.0",
            "_view_name": "ProgressView",
            "bar_style": "danger",
            "description": "",
            "description_tooltip": null,
            "layout": "IPY_MODEL_82859b5b13da4651848ddbd14b2e49e7",
            "max": 1000000,
            "min": 0,
            "orientation": "horizontal",
            "style": "IPY_MODEL_f583260aa9d9436d8d18eb2b57241cd6",
            "value": 3
          }
        },
        "7fb258ca38b84051904e2ba6dd509dca": {
          "model_module": "@jupyter-widgets/controls",
          "model_name": "HTMLModel",
          "model_module_version": "1.5.0",
          "state": {
            "_dom_classes": [],
            "_model_module": "@jupyter-widgets/controls",
            "_model_module_version": "1.5.0",
            "_model_name": "HTMLModel",
            "_view_count": null,
            "_view_module": "@jupyter-widgets/controls",
            "_view_module_version": "1.5.0",
            "_view_name": "HTMLView",
            "description": "",
            "description_tooltip": null,
            "layout": "IPY_MODEL_d1c41531c7ca4669be958806b8c753ca",
            "placeholder": "​",
            "style": "IPY_MODEL_c70ba57f15f644b9bdae3b6128f37e6f",
            "value": " 3/1000000 [00:00&lt;4:56:57, 56.12it/s]"
          }
        },
        "6daffd9505954d02807c593fb4ec6f74": {
          "model_module": "@jupyter-widgets/base",
          "model_name": "LayoutModel",
          "model_module_version": "1.2.0",
          "state": {
            "_model_module": "@jupyter-widgets/base",
            "_model_module_version": "1.2.0",
            "_model_name": "LayoutModel",
            "_view_count": null,
            "_view_module": "@jupyter-widgets/base",
            "_view_module_version": "1.2.0",
            "_view_name": "LayoutView",
            "align_content": null,
            "align_items": null,
            "align_self": null,
            "border": null,
            "bottom": null,
            "display": null,
            "flex": null,
            "flex_flow": null,
            "grid_area": null,
            "grid_auto_columns": null,
            "grid_auto_flow": null,
            "grid_auto_rows": null,
            "grid_column": null,
            "grid_gap": null,
            "grid_row": null,
            "grid_template_areas": null,
            "grid_template_columns": null,
            "grid_template_rows": null,
            "height": null,
            "justify_content": null,
            "justify_items": null,
            "left": null,
            "margin": null,
            "max_height": null,
            "max_width": null,
            "min_height": null,
            "min_width": null,
            "object_fit": null,
            "object_position": null,
            "order": null,
            "overflow": null,
            "overflow_x": null,
            "overflow_y": null,
            "padding": null,
            "right": null,
            "top": null,
            "visibility": null,
            "width": null
          }
        },
        "afabc506b38d4dbeb937435b25f973c4": {
          "model_module": "@jupyter-widgets/base",
          "model_name": "LayoutModel",
          "model_module_version": "1.2.0",
          "state": {
            "_model_module": "@jupyter-widgets/base",
            "_model_module_version": "1.2.0",
            "_model_name": "LayoutModel",
            "_view_count": null,
            "_view_module": "@jupyter-widgets/base",
            "_view_module_version": "1.2.0",
            "_view_name": "LayoutView",
            "align_content": null,
            "align_items": null,
            "align_self": null,
            "border": null,
            "bottom": null,
            "display": null,
            "flex": null,
            "flex_flow": null,
            "grid_area": null,
            "grid_auto_columns": null,
            "grid_auto_flow": null,
            "grid_auto_rows": null,
            "grid_column": null,
            "grid_gap": null,
            "grid_row": null,
            "grid_template_areas": null,
            "grid_template_columns": null,
            "grid_template_rows": null,
            "height": null,
            "justify_content": null,
            "justify_items": null,
            "left": null,
            "margin": null,
            "max_height": null,
            "max_width": null,
            "min_height": null,
            "min_width": null,
            "object_fit": null,
            "object_position": null,
            "order": null,
            "overflow": null,
            "overflow_x": null,
            "overflow_y": null,
            "padding": null,
            "right": null,
            "top": null,
            "visibility": null,
            "width": null
          }
        },
        "2aee98d13475465ba9a59cdca821d8f5": {
          "model_module": "@jupyter-widgets/controls",
          "model_name": "DescriptionStyleModel",
          "model_module_version": "1.5.0",
          "state": {
            "_model_module": "@jupyter-widgets/controls",
            "_model_module_version": "1.5.0",
            "_model_name": "DescriptionStyleModel",
            "_view_count": null,
            "_view_module": "@jupyter-widgets/base",
            "_view_module_version": "1.2.0",
            "_view_name": "StyleView",
            "description_width": ""
          }
        },
        "82859b5b13da4651848ddbd14b2e49e7": {
          "model_module": "@jupyter-widgets/base",
          "model_name": "LayoutModel",
          "model_module_version": "1.2.0",
          "state": {
            "_model_module": "@jupyter-widgets/base",
            "_model_module_version": "1.2.0",
            "_model_name": "LayoutModel",
            "_view_count": null,
            "_view_module": "@jupyter-widgets/base",
            "_view_module_version": "1.2.0",
            "_view_name": "LayoutView",
            "align_content": null,
            "align_items": null,
            "align_self": null,
            "border": null,
            "bottom": null,
            "display": null,
            "flex": null,
            "flex_flow": null,
            "grid_area": null,
            "grid_auto_columns": null,
            "grid_auto_flow": null,
            "grid_auto_rows": null,
            "grid_column": null,
            "grid_gap": null,
            "grid_row": null,
            "grid_template_areas": null,
            "grid_template_columns": null,
            "grid_template_rows": null,
            "height": null,
            "justify_content": null,
            "justify_items": null,
            "left": null,
            "margin": null,
            "max_height": null,
            "max_width": null,
            "min_height": null,
            "min_width": null,
            "object_fit": null,
            "object_position": null,
            "order": null,
            "overflow": null,
            "overflow_x": null,
            "overflow_y": null,
            "padding": null,
            "right": null,
            "top": null,
            "visibility": null,
            "width": null
          }
        },
        "f583260aa9d9436d8d18eb2b57241cd6": {
          "model_module": "@jupyter-widgets/controls",
          "model_name": "ProgressStyleModel",
          "model_module_version": "1.5.0",
          "state": {
            "_model_module": "@jupyter-widgets/controls",
            "_model_module_version": "1.5.0",
            "_model_name": "ProgressStyleModel",
            "_view_count": null,
            "_view_module": "@jupyter-widgets/base",
            "_view_module_version": "1.2.0",
            "_view_name": "StyleView",
            "bar_color": null,
            "description_width": ""
          }
        },
        "d1c41531c7ca4669be958806b8c753ca": {
          "model_module": "@jupyter-widgets/base",
          "model_name": "LayoutModel",
          "model_module_version": "1.2.0",
          "state": {
            "_model_module": "@jupyter-widgets/base",
            "_model_module_version": "1.2.0",
            "_model_name": "LayoutModel",
            "_view_count": null,
            "_view_module": "@jupyter-widgets/base",
            "_view_module_version": "1.2.0",
            "_view_name": "LayoutView",
            "align_content": null,
            "align_items": null,
            "align_self": null,
            "border": null,
            "bottom": null,
            "display": null,
            "flex": null,
            "flex_flow": null,
            "grid_area": null,
            "grid_auto_columns": null,
            "grid_auto_flow": null,
            "grid_auto_rows": null,
            "grid_column": null,
            "grid_gap": null,
            "grid_row": null,
            "grid_template_areas": null,
            "grid_template_columns": null,
            "grid_template_rows": null,
            "height": null,
            "justify_content": null,
            "justify_items": null,
            "left": null,
            "margin": null,
            "max_height": null,
            "max_width": null,
            "min_height": null,
            "min_width": null,
            "object_fit": null,
            "object_position": null,
            "order": null,
            "overflow": null,
            "overflow_x": null,
            "overflow_y": null,
            "padding": null,
            "right": null,
            "top": null,
            "visibility": null,
            "width": null
          }
        },
        "c70ba57f15f644b9bdae3b6128f37e6f": {
          "model_module": "@jupyter-widgets/controls",
          "model_name": "DescriptionStyleModel",
          "model_module_version": "1.5.0",
          "state": {
            "_model_module": "@jupyter-widgets/controls",
            "_model_module_version": "1.5.0",
            "_model_name": "DescriptionStyleModel",
            "_view_count": null,
            "_view_module": "@jupyter-widgets/base",
            "_view_module_version": "1.2.0",
            "_view_name": "StyleView",
            "description_width": ""
          }
        }
      }
    }
  },
  "cells": [
    {
      "cell_type": "markdown",
      "metadata": {
        "id": "view-in-github",
        "colab_type": "text"
      },
      "source": [
        "<a href=\"https://colab.research.google.com/github/nonyeezeh/Research-Project-Code/blob/main/code_1.ipynb\" target=\"_parent\"><img src=\"https://colab.research.google.com/assets/colab-badge.svg\" alt=\"Open In Colab\"/></a>"
      ]
    },
    {
      "cell_type": "markdown",
      "source": [
        "# Code 1"
      ],
      "metadata": {
        "id": "R8uh3p01QVAB"
      }
    },
    {
      "cell_type": "markdown",
      "source": [
        "### Bayesian Network Data Creation"
      ],
      "metadata": {
        "id": "I41hph7nvb6L"
      }
    },
    {
      "cell_type": "markdown",
      "source": [
        "##### The following code makes use of forward sampling to generate data from a bayesian network. There are only 3 variables (interest rates, economic indicators, and stock prices) and no noise added."
      ],
      "metadata": {
        "id": "iVDIPI-HvPIM"
      }
    },
    {
      "cell_type": "code",
      "execution_count": null,
      "metadata": {
        "colab": {
          "base_uri": "https://localhost:8080/"
        },
        "id": "DbU9QVKYP23A",
        "outputId": "6fec1a63-8a96-4dfe-d82e-955fd3970b9f"
      },
      "outputs": [
        {
          "output_type": "stream",
          "name": "stdout",
          "text": [
            "  Interest Rates Economic Indicators Stock Prices\n",
            "0         medium             average       stable\n",
            "1            low             average     decrease\n",
            "2           high             average       stable\n",
            "3            low                 bad     increase\n",
            "4            low                 bad     decrease\n",
            "5           high                good     increase\n",
            "6           high             average       stable\n",
            "7         medium             average       stable\n",
            "8           high             average       stable\n",
            "9         medium                good     decrease\n"
          ]
        }
      ],
      "source": [
        "import numpy as np\n",
        "import pandas as pd\n",
        "\n",
        "# Define the number of samples\n",
        "num_samples = 1000\n",
        "\n",
        "# Define the probability distributions\n",
        "def sample_A():\n",
        "    # Example distribution for interest rates\n",
        "    return np.random.choice(['low', 'medium', 'high'], p=[0.3, 0.4, 0.3])\n",
        "\n",
        "def sample_B(A):\n",
        "    # Example conditional distributions for economic indicators given interest rates\n",
        "    if A == 'low':\n",
        "        return np.random.choice(['bad', 'average', 'good'], p=[0.5, 0.3, 0.2])\n",
        "    elif A == 'medium':\n",
        "        return np.random.choice(['bad', 'average', 'good'], p=[0.2, 0.5, 0.3])\n",
        "    else:  # A == 'high'\n",
        "        return np.random.choice(['bad', 'average', 'good'], p=[0.1, 0.3, 0.6])\n",
        "\n",
        "def sample_C(A, B):\n",
        "    # Example conditional distributions for stock prices given interest rates and economic indicators\n",
        "    if A == 'low' and B == 'bad':\n",
        "        return np.random.choice(['decrease', 'stable', 'increase'], p=[0.7, 0.2, 0.1])\n",
        "    elif A == 'low' and B == 'average':\n",
        "        return np.random.choice(['decrease', 'stable', 'increase'], p=[0.5, 0.3, 0.2])\n",
        "    elif A == 'low' and B == 'good':\n",
        "        return np.random.choice(['decrease', 'stable', 'increase'], p=[0.4, 0.4, 0.2])\n",
        "    elif A == 'medium' and B == 'bad':\n",
        "        return np.random.choice(['decrease', 'stable', 'increase'], p=[0.5, 0.4, 0.1])\n",
        "    elif A == 'medium' and B == 'average':\n",
        "        return np.random.choice(['decrease', 'stable', 'increase'], p=[0.3, 0.5, 0.2])\n",
        "    elif A == 'medium' and B == 'good':\n",
        "        return np.random.choice(['decrease', 'stable', 'increase'], p=[0.2, 0.5, 0.3])\n",
        "    elif A == 'high' and B == 'bad':\n",
        "        return np.random.choice(['decrease', 'stable', 'increase'], p=[0.3, 0.5, 0.2])\n",
        "    elif A == 'high' and B == 'average':\n",
        "        return np.random.choice(['decrease', 'stable', 'increase'], p=[0.2, 0.4, 0.4])\n",
        "    else:  # A == 'high' and B == 'good'\n",
        "        return np.random.choice(['decrease', 'stable', 'increase'], p=[0.1, 0.3, 0.6])\n",
        "\n",
        "# Generate samples\n",
        "data = []\n",
        "\n",
        "for _ in range(num_samples):\n",
        "    A = sample_A()\n",
        "    B = sample_B(A)\n",
        "    C = sample_C(A, B)\n",
        "    data.append((A, B, C))\n",
        "\n",
        "# Convert to a pandas DataFrame\n",
        "df = pd.DataFrame(data, columns=['Interest Rates', 'Economic Indicators', 'Stock Prices'])\n",
        "\n",
        "# Save to a CSV file\n",
        "df.to_csv('bayesian_network_data.csv', index=False)\n",
        "\n",
        "print(df.head(10))  # Print first 10 samples to verify"
      ]
    },
    {
      "cell_type": "markdown",
      "source": [
        "### Neural Network Training"
      ],
      "metadata": {
        "id": "4XcB7j6mtzBc"
      }
    },
    {
      "cell_type": "markdown",
      "source": [
        "##### NN with predictions"
      ],
      "metadata": {
        "id": "Tw6J8I6YyHiE"
      }
    },
    {
      "cell_type": "code",
      "source": [
        "import pandas as pd\n",
        "import numpy as np\n",
        "from sklearn.model_selection import train_test_split\n",
        "from sklearn.preprocessing import OneHotEncoder\n",
        "import tensorflow as tf\n",
        "from tensorflow.keras.models import Sequential\n",
        "from tensorflow.keras.layers import Dense\n",
        "import matplotlib.pyplot as plt\n",
        "\n",
        "# Load the data\n",
        "df = pd.read_csv('bayesian_network_data.csv')\n",
        "\n",
        "# One-hot encode categorical variables\n",
        "encoder = OneHotEncoder(sparse=False)\n",
        "encoded_features = encoder.fit_transform(df[['Interest Rates', 'Economic Indicators']])\n",
        "encoded_labels = encoder.fit_transform(df[['Stock Prices']])\n",
        "\n",
        "# Define the neural network\n",
        "model = Sequential([\n",
        "    Dense(10, input_shape=(encoded_features.shape[1],), activation='relu'),\n",
        "    Dense(10, activation='relu'),\n",
        "    Dense(encoded_labels.shape[1], activation='softmax')  # Output layer with softmax activation for classification\n",
        "])\n",
        "\n",
        "# Compile the model\n",
        "model.compile(optimizer='adam', loss='categorical_crossentropy', metrics=['accuracy'])\n",
        "\n",
        "# Train the model\n",
        "history = model.fit(encoded_features, encoded_labels, epochs=50, batch_size=32, validation_split=0.2)\n",
        "\n",
        "# Make predictions on the entire dataset\n",
        "predictions = model.predict(encoded_features)\n",
        "\n",
        "# Convert predictions from probabilities to class labels\n",
        "predicted_classes = encoder.inverse_transform(predictions)\n",
        "\n",
        "# Convert true labels from one-hot encoded format to class labels\n",
        "true_classes = encoder.inverse_transform(encoded_labels)\n",
        "\n",
        "# Print a few examples of predictions and true labels\n",
        "for i in range(10):\n",
        "    print(f\"Predicted: {predicted_classes[i]}, True: {true_classes[i]}\")\n",
        "\n",
        "# Convert predicted_classes to a suitable format for DataFrame\n",
        "predicted_classes_series = pd.Series([pred[0] for pred in predicted_classes], name='Predicted Stock Prices')\n",
        "\n",
        "# Optionally, save predictions to a new CSV file\n",
        "output_df = df.copy()\n",
        "output_df['Predicted Stock Prices'] = predicted_classes_series\n",
        "output_df.to_csv('predicted_bayesian_network_data.csv', index=False)\n",
        "\n",
        "print(\"Predictions saved to 'predicted_bayesian_network_data.csv'\")"
      ],
      "metadata": {
        "id": "dbeqnwCIx9f7"
      },
      "execution_count": null,
      "outputs": []
    },
    {
      "cell_type": "markdown",
      "source": [
        "##### NN training with accuracy graphs"
      ],
      "metadata": {
        "id": "1eLNlaHvyBTz"
      }
    },
    {
      "cell_type": "code",
      "source": [
        "!pip install tensorflow"
      ],
      "metadata": {
        "id": "jtk3Y5gbu4Gt"
      },
      "execution_count": null,
      "outputs": []
    },
    {
      "cell_type": "code",
      "source": [
        "import pandas as pd\n",
        "import numpy as np\n",
        "from sklearn.model_selection import train_test_split\n",
        "from sklearn.preprocessing import OneHotEncoder\n",
        "import tensorflow as tf\n",
        "from tensorflow.keras.models import Sequential\n",
        "from tensorflow.keras.layers import Dense\n",
        "\n",
        "# Load the data\n",
        "df = pd.read_csv('bayesian_network_data.csv')\n",
        "\n",
        "# One-hot encode categorical variables\n",
        "encoder = OneHotEncoder(sparse=False)\n",
        "encoded_features = encoder.fit_transform(df[['Interest Rates', 'Economic Indicators']])\n",
        "encoded_labels = encoder.fit_transform(df[['Stock Prices']])\n",
        "\n",
        "# Split the data into training and testing sets\n",
        "X_train, X_test, y_train, y_test = train_test_split(encoded_features, encoded_labels, test_size=0.2, random_state=42)\n",
        "\n",
        "# Define the neural network\n",
        "model = Sequential([\n",
        "    Dense(10, input_shape=(encoded_features.shape[1],), activation='relu'),\n",
        "    Dense(10, activation='relu'),\n",
        "    Dense(encoded_labels.shape[1], activation='softmax')  # Output layer with softmax activation for classification\n",
        "])\n",
        "\n",
        "# Compile the model\n",
        "model.compile(optimizer='adam', loss='categorical_crossentropy', metrics=['accuracy'])\n",
        "\n",
        "# Train the model\n",
        "history = model.fit(X_train, y_train, epochs=50, batch_size=32, validation_split=0.2)\n",
        "\n",
        "# Evaluate the model on the test set\n",
        "test_loss, test_accuracy = model.evaluate(X_test, y_test)\n",
        "print(f\"Test Accuracy: {test_accuracy * 100:.2f}%\")\n",
        "\n",
        "# Plot training & validation accuracy values\n",
        "import matplotlib.pyplot as plt\n",
        "\n",
        "plt.plot(history.history['accuracy'])\n",
        "plt.plot(history.history['val_accuracy'])\n",
        "plt.title('Model accuracy')\n",
        "plt.ylabel('Accuracy')\n",
        "plt.xlabel('Epoch')\n",
        "plt.legend(['Train', 'Validation'], loc='upper left')\n",
        "plt.show()\n",
        "\n",
        "# Plot training & validation loss values\n",
        "plt.plot(history.history['loss'])\n",
        "plt.plot(history.history['val_loss'])\n",
        "plt.title('Model loss')\n",
        "plt.ylabel('Loss')\n",
        "plt.xlabel('Epoch')\n",
        "plt.legend(['Train', 'Validation'], loc='upper left')\n",
        "plt.show()"
      ],
      "metadata": {
        "id": "OJR-NW7-tuis"
      },
      "execution_count": null,
      "outputs": []
    },
    {
      "cell_type": "markdown",
      "source": [
        "##### Model Performance Evaluation"
      ],
      "metadata": {
        "id": "LIo68VAp38tY"
      }
    },
    {
      "cell_type": "code",
      "source": [
        "import pandas as pd\n",
        "import numpy as np\n",
        "from sklearn.model_selection import train_test_split\n",
        "from sklearn.preprocessing import OneHotEncoder\n",
        "from sklearn.metrics import confusion_matrix, classification_report\n",
        "import tensorflow as tf\n",
        "from tensorflow.keras.models import Sequential\n",
        "from tensorflow.keras.layers import Dense\n",
        "import matplotlib.pyplot as plt\n",
        "import seaborn as sns\n",
        "\n",
        "# Load the data\n",
        "df = pd.read_csv('bayesian_network_data.csv')\n",
        "\n",
        "# One-hot encode categorical variables\n",
        "encoder = OneHotEncoder(sparse=False)\n",
        "encoded_features = encoder.fit_transform(df[['Interest Rates', 'Economic Indicators']])\n",
        "encoded_labels = encoder.fit_transform(df[['Stock Prices']])\n",
        "\n",
        "# Define the neural network\n",
        "model = Sequential([\n",
        "    Dense(10, input_shape=(encoded_features.shape[1],), activation='relu'),\n",
        "    Dense(10, activation='relu'),\n",
        "    Dense(encoded_labels.shape[1], activation='softmax')  # Output layer with softmax activation for classification\n",
        "])\n",
        "\n",
        "# Compile the model\n",
        "model.compile(optimizer='adam', loss='categorical_crossentropy', metrics=['accuracy'])\n",
        "\n",
        "# Train the model\n",
        "history = model.fit(encoded_features, encoded_labels, epochs=50, batch_size=32, validation_split=0.2)\n",
        "\n",
        "# Make predictions on the entire dataset\n",
        "predictions = model.predict(encoded_features)\n",
        "\n",
        "# Convert predictions from probabilities to class labels\n",
        "predicted_classes = encoder.inverse_transform(predictions)\n",
        "\n",
        "# Convert true labels from one-hot encoded format to class labels\n",
        "true_classes = encoder.inverse_transform(encoded_labels)\n",
        "\n",
        "# Convert true and predicted labels to 1D arrays for confusion matrix\n",
        "true_classes_1d = true_classes.flatten()\n",
        "predicted_classes_1d = predicted_classes.flatten()\n",
        "\n",
        "# Generate confusion matrix\n",
        "conf_matrix = confusion_matrix(true_classes_1d, predicted_classes_1d, labels=encoder.categories_[0])\n",
        "\n",
        "# Plot confusion matrix\n",
        "plt.figure(figsize=(10, 7))\n",
        "sns.heatmap(conf_matrix, annot=True, fmt='d', cmap='Blues', xticklabels=encoder.categories_[0], yticklabels=encoder.categories_[0])\n",
        "plt.xlabel('Predicted')\n",
        "plt.ylabel('True')\n",
        "plt.title('Confusion Matrix')\n",
        "plt.show()\n",
        "\n",
        "# Print classification report\n",
        "print(classification_report(true_classes_1d, predicted_classes_1d, target_names=encoder.categories_[0]))"
      ],
      "metadata": {
        "id": "Jtuk2OS-3l2t"
      },
      "execution_count": null,
      "outputs": []
    },
    {
      "cell_type": "markdown",
      "source": [
        "### K-L Divergence"
      ],
      "metadata": {
        "id": "kEGREKr57ief"
      }
    },
    {
      "cell_type": "code",
      "source": [
        "import pandas as pd\n",
        "import numpy as np\n",
        "from scipy.stats import entropy\n",
        "\n",
        "# Load the data\n",
        "data = pd.read_csv('predicted_bayesian_network_data.csv')\n",
        "\n",
        "# Display the first few rows of the data to confirm the structure\n",
        "print(data.head())\n",
        "\n",
        "# Compute the probability distributions for the stock prices\n",
        "prob_bn = data['Stock Prices'].value_counts(normalize=True)\n",
        "prob_nn = data['Predicted Stock Prices'].value_counts(normalize=True)\n",
        "\n",
        "# Align the distributions so they have the same index\n",
        "prob_bn, prob_nn = prob_bn.align(prob_nn, fill_value=0)\n",
        "\n",
        "# Compute the KL divergence\n",
        "kl_divergence = entropy(prob_bn, prob_nn)\n",
        "\n",
        "# Interpret the KL divergence value\n",
        "if kl_divergence < 0.5:\n",
        "    interpretation = \"The distributions are quite similar. The NN has successfully managed to capture the variable associations.\"\n",
        "elif kl_divergence > 0.5:\n",
        "    interpretation = \"The distributions are significantly different. The NN was unable to capture the variable associations.\"\n",
        "\n",
        "# Display the KL divergence\n",
        "print(f\"KL Divergence: {kl_divergence}\")\n",
        "# Display the KL divergence interpretation\n",
        "print(f\"Interpretation: {interpretation}\")"
      ],
      "metadata": {
        "id": "VCJm_NE07m5o",
        "outputId": "cbc58a33-772c-45c6-fdd6-629b989ee3c4",
        "colab": {
          "base_uri": "https://localhost:8080/"
        }
      },
      "execution_count": 11,
      "outputs": [
        {
          "output_type": "stream",
          "name": "stdout",
          "text": [
            "  Interest Rates Economic Indicators Stock Prices Predicted Stock Prices\n",
            "0         medium             average       stable                 stable\n",
            "1            low             average     decrease               decrease\n",
            "2           high             average       stable                 stable\n",
            "3            low                 bad     increase               decrease\n",
            "4            low                 bad     decrease               decrease\n",
            "KL Divergence: 0.04028061095081653\n",
            "Interpretation: The distributions are quite similar. The NN has successfully managed to capture the variable associations.\n"
          ]
        }
      ]
    },
    {
      "cell_type": "markdown",
      "source": [
        "### BIC & K-L Divergence (incomplete)"
      ],
      "metadata": {
        "id": "0ezIz5JzAr31"
      }
    },
    {
      "cell_type": "code",
      "source": [
        "pip install pgmpy"
      ],
      "metadata": {
        "id": "Gwd8myfHCCGi"
      },
      "execution_count": null,
      "outputs": []
    },
    {
      "cell_type": "code",
      "source": [
        "pip install pgmpy pandas scipy"
      ],
      "metadata": {
        "id": "ULu5WaMvCrFm"
      },
      "execution_count": null,
      "outputs": []
    },
    {
      "cell_type": "code",
      "source": [
        "import pandas as pd\n",
        "from pgmpy.estimators import HillClimbSearch, BicScore\n",
        "from pgmpy.models import BayesianNetwork\n",
        "from pgmpy.inference import VariableElimination\n",
        "from scipy.stats import entropy\n",
        "import numpy as np\n",
        "\n",
        "# Load the combined dataset\n",
        "data_path = 'predicted_bayesian_network_data.csv'\n",
        "data = pd.read_csv(data_path)\n",
        "\n",
        "# Function to learn BN structure using BIC\n",
        "def learn_bn_structure(data, columns):\n",
        "    hc = HillClimbSearch(data[columns])\n",
        "    best_model = hc.estimate(scoring_method=BicScore(data[columns]))\n",
        "    bn_model = BayesianNetwork(best_model.edges())\n",
        "    bn_model.fit(data[columns])\n",
        "    return bn_model\n",
        "\n",
        "# Learn the BN structure for the original dataset\n",
        "original_bn = learn_bn_structure(data, [\"Interest Rates\", \"Economic Indicators\", \"Stock Prices\"])\n",
        "\n",
        "# Learn the BN structure for the predicted dataset\n",
        "predicted_bn = learn_bn_structure(data, [\"Interest Rates\", \"Economic Indicators\", \"Predicted Stock Prices\"])\n",
        "\n",
        "# Print the learned structures\n",
        "print(\"Original BN Structure:\", original_bn.edges())\n",
        "print(\"Predicted BN Structure:\", predicted_bn.edges())\n",
        "\n",
        "# Function to compute KL divergence\n",
        "def compute_kl_divergence(bn1, bn2, evidence_columns, target_column):\n",
        "    inference_bn1 = VariableElimination(bn1)\n",
        "    inference_bn2 = VariableElimination(bn2)\n",
        "\n",
        "    kl_div = 0\n",
        "    count = 0\n",
        "    for idx, row in data.iterrows():\n",
        "        evidence = {col: row[col] for col in evidence_columns}\n",
        "        try:\n",
        "            q_dist = inference_bn1.query(variables=[target_column], evidence=evidence).values\n",
        "            p_dist = inference_bn2.query(variables=[target_column], evidence=evidence).values\n",
        "            kl_div += entropy(p_dist, q_dist)\n",
        "            count += 1\n",
        "        except:\n",
        "            continue\n",
        "\n",
        "    return kl_div / count if count > 0 else np.inf\n",
        "\n",
        "# Calculate KL divergence between the original and predicted BN structures\n",
        "kl_div = compute_kl_divergence(original_bn, predicted_bn, [\"Interest Rates\", \"Economic Indicators\"], \"Stock Prices\")\n",
        "print(\"Kullback-Leibler Divergence:\", kl_div)"
      ],
      "metadata": {
        "id": "TMQT4gD8C2lT",
        "outputId": "029ae2e2-c423-4245-d447-8efce31759f4",
        "colab": {
          "base_uri": "https://localhost:8080/",
          "height": 153,
          "referenced_widgets": [
            "253303d7bc43401992895d5bf6e8dddb",
            "179c51b9a51f4f6b9fccb5b4dbcc7d69",
            "5c02744fcde5407bb482ffafad3d1c78",
            "20d801b6abc34ad3935f4778d8f9fc23",
            "2d1bf70a57bf40948e31de7d26ca98b0",
            "241600a81727411db9fe50719969eb9b",
            "c600914173d4414c84532e741c9bfb93",
            "af09184aee4245a6aa41cb9c1361756e",
            "cb97e05e643b467e8d1805fb031756e8",
            "d1d426bd03d345d6a1f78dc68951a916",
            "0636018624234812b155ac5f5e3d279f",
            "8c7c12bc5af94419928872a8368dbd33",
            "2d536a553be14f2f8e806b1fa8f1ec0c",
            "ad5f4c6b35f64af9a4233604c67b0050",
            "7fb258ca38b84051904e2ba6dd509dca",
            "6daffd9505954d02807c593fb4ec6f74",
            "afabc506b38d4dbeb937435b25f973c4",
            "2aee98d13475465ba9a59cdca821d8f5",
            "82859b5b13da4651848ddbd14b2e49e7",
            "f583260aa9d9436d8d18eb2b57241cd6",
            "d1c41531c7ca4669be958806b8c753ca",
            "c70ba57f15f644b9bdae3b6128f37e6f"
          ]
        }
      },
      "execution_count": 17,
      "outputs": [
        {
          "output_type": "display_data",
          "data": {
            "text/plain": [
              "  0%|          | 0/1000000 [00:00<?, ?it/s]"
            ],
            "application/vnd.jupyter.widget-view+json": {
              "version_major": 2,
              "version_minor": 0,
              "model_id": "253303d7bc43401992895d5bf6e8dddb"
            }
          },
          "metadata": {}
        },
        {
          "output_type": "display_data",
          "data": {
            "text/plain": [
              "  0%|          | 0/1000000 [00:00<?, ?it/s]"
            ],
            "application/vnd.jupyter.widget-view+json": {
              "version_major": 2,
              "version_minor": 0,
              "model_id": "8c7c12bc5af94419928872a8368dbd33"
            }
          },
          "metadata": {}
        },
        {
          "output_type": "stream",
          "name": "stdout",
          "text": [
            "Original BN Structure: [('Interest Rates', 'Economic Indicators'), ('Stock Prices', 'Interest Rates'), ('Stock Prices', 'Economic Indicators')]\n",
            "Predicted BN Structure: [('Economic Indicators', 'Interest Rates'), ('Predicted Stock Prices', 'Interest Rates'), ('Predicted Stock Prices', 'Economic Indicators')]\n",
            "Kullback-Leibler Divergence: inf\n"
          ]
        }
      ]
    }
  ]
}