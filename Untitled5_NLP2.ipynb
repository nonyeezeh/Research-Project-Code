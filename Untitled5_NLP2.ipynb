{
  "nbformat": 4,
  "nbformat_minor": 0,
  "metadata": {
    "colab": {
      "provenance": [],
      "authorship_tag": "ABX9TyOj9qKVLHuBABFVvXvWj9s2",
      "include_colab_link": true
    },
    "kernelspec": {
      "name": "python3",
      "display_name": "Python 3"
    },
    "language_info": {
      "name": "python"
    }
  },
  "cells": [
    {
      "cell_type": "markdown",
      "metadata": {
        "id": "view-in-github",
        "colab_type": "text"
      },
      "source": [
        "<a href=\"https://colab.research.google.com/github/nonyeezeh/Research-Project-Code/blob/main/Untitled5_NLP2.ipynb\" target=\"_parent\"><img src=\"https://colab.research.google.com/assets/colab-badge.svg\" alt=\"Open In Colab\"/></a>"
      ]
    },
    {
      "cell_type": "code",
      "execution_count": 1,
      "metadata": {
        "id": "HZzpHpJXLxoZ"
      },
      "outputs": [],
      "source": [
        "import re\n",
        "from collections import Counter, defaultdict, OrderedDict\n",
        "import random\n",
        "import math"
      ]
    },
    {
      "cell_type": "code",
      "source": [
        "# Function to clean text by removing specified characters and stop words\n",
        "def clean_all_text(text, removed_chars, stop_words):\n",
        "    for char in removed_chars:\n",
        "        text = text.replace(char, '')\n",
        "\n",
        "    words = text.split()\n",
        "\n",
        "    cleaned_words = [word for word in words if word.lower() not in stop_words]\n",
        "\n",
        "    cleaned_text = ' '.join(cleaned_words)\n",
        "\n",
        "    return cleaned_text\n",
        "\n",
        "# List of characters to remove\n",
        "removed_characters = ['.', ',', '!', '?', ';', ':', '“', '”', '\"', \"'\", '’', '(', ')', '[', ']', '{', '}', '-', '_', '…', '—',\n",
        "                      '`', '~', '/', '\\\\', '|', '@', '#', '$', '%', '^', '&', '*', '+', '=', '<', '>', '0', '1', '2', '3', '4', '5', '6', '7', '8', '9']\n",
        "\n",
        "# Read stop words from file\n",
        "with open('stopwords.txt', 'r') as file:\n",
        "    stop_words = set(line.strip().lower() for line in file)\n",
        "\n",
        "# Read and clean text from the first book (HP1)\n",
        "with open(\"HP1.txt\", 'r', encoding='utf-8') as file:\n",
        "    all_text_HP1 = file.read()\n",
        "\n",
        "new_text_HP1 = clean_all_text(all_text_HP1, removed_characters, stop_words)\n",
        "\n",
        "# Read and clean text from the second book (HP2)\n",
        "with open(\"HP2.txt\", 'r', encoding='utf-8') as file:\n",
        "    all_text_HP2 = file.read()\n",
        "\n",
        "new_text_HP2 = clean_all_text(all_text_HP2, removed_characters, stop_words)"
      ],
      "metadata": {
        "id": "orHCXyDXMOIg"
      },
      "execution_count": 2,
      "outputs": []
    },
    {
      "cell_type": "code",
      "source": [
        "# Function to get BPE statistics\n",
        "def get_stats(vocab):\n",
        "    pairs = defaultdict(int)\n",
        "    for word, freq in vocab.items():\n",
        "        symbols = word.split()\n",
        "        for i in range(len(symbols) - 1):\n",
        "            pairs[(symbols[i], symbols[i + 1])] += freq\n",
        "    return pairs\n",
        "\n",
        "# Function to merge the most frequent BPE pair\n",
        "def merge_vocab(pair, v_in):\n",
        "    v_out = {}\n",
        "    bigram = ' '.join(pair)\n",
        "    replacement = ''.join(pair)\n",
        "    for word in v_in:\n",
        "        w_out = word.replace(bigram, replacement)\n",
        "        v_out[w_out] = v_in[word]\n",
        "    return v_out\n",
        "\n",
        "# Initialize vocabulary with words split into characters for HP1\n",
        "words_HP1 = new_text_HP1.split()\n",
        "vocab_HP1 = {' '.join(word): words_HP1.count(word) for word in set(words_HP1)}\n",
        "\n",
        "# Initialize vocabulary with words split into characters for HP2\n",
        "words_HP2 = new_text_HP2.split()\n",
        "vocab_HP2 = {' '.join(word): words_HP2.count(word) for word in set(words_HP2)}\n",
        "\n",
        "# Set the number of BPE merges\n",
        "num_merges = 100\n",
        "\n",
        "# Perform BPE for HP1\n",
        "for i in range(num_merges):\n",
        "    pairs = get_stats(vocab_HP1)\n",
        "    if not pairs:\n",
        "        break\n",
        "    best = max(pairs, key=pairs.get)\n",
        "    vocab_HP1 = merge_vocab(best, vocab_HP1)\n",
        "\n",
        "# Perform BPE for HP2\n",
        "for i in range(num_merges):\n",
        "    pairs = get_stats(vocab_HP2)\n",
        "    if not pairs:\n",
        "        break\n",
        "    best = max(pairs, key=pairs.get)\n",
        "    vocab_HP2 = merge_vocab(best, vocab_HP2)"
      ],
      "metadata": {
        "id": "7F_lwXoPMSAQ"
      },
      "execution_count": 3,
      "outputs": []
    },
    {
      "cell_type": "code",
      "source": [
        "# Convert vocabularies to lists of tokenized pages\n",
        "pages_HP1 = list(vocab_HP1.keys())\n",
        "pages_HP2 = list(vocab_HP2.keys())\n",
        "\n",
        "# Labels for the books\n",
        "labels_HP1 = [\"HP1\"] * len(pages_HP1)\n",
        "labels_HP2 = [\"HP2\"] * len(pages_HP2)\n",
        "\n",
        "# Combine the pages and labels from both books\n",
        "X_combined = pages_HP1 + pages_HP2\n",
        "y_combined = labels_HP1 + labels_HP2"
      ],
      "metadata": {
        "id": "Z1lffSZMMUVe"
      },
      "execution_count": 4,
      "outputs": []
    },
    {
      "cell_type": "code",
      "source": [
        "# Seed for reproducibility\n",
        "random.seed(42)\n",
        "\n",
        "# Combine X and y into a list of tuples to keep tokens and labels together\n",
        "data_combined = list(zip(X_combined, y_combined))\n",
        "\n",
        "# Shuffle the combined data\n",
        "random.shuffle(data_combined)\n",
        "\n",
        "# Calculate the sizes for the training, validation, and test sets\n",
        "train_size = int(0.7 * len(data_combined))  # 70% for training\n",
        "val_size = int(0.15 * len(data_combined))   # 15% for validation\n",
        "test_size = len(data_combined) - train_size - val_size  # Remaining 15% for test\n",
        "\n",
        "# Split the data based on the calculated sizes\n",
        "train_data = data_combined[:train_size]\n",
        "val_data = data_combined[train_size:train_size + val_size]\n",
        "test_data = data_combined[train_size + val_size:]\n",
        "\n",
        "# Unzip the data back into X and y components\n",
        "X_train, y_train = zip(*train_data)\n",
        "X_val, y_val = zip(*val_data)\n",
        "X_test, y_test = zip(*test_data)\n",
        "\n",
        "# Convert to lists (optional)\n",
        "X_train, y_train = list(X_train), list(y_train)\n",
        "X_val, y_val = list(X_val), list(y_val)\n",
        "X_test, y_test = list(X_test), list(y_test)"
      ],
      "metadata": {
        "id": "mbQ7hsOSMXL4"
      },
      "execution_count": 10,
      "outputs": []
    },
    {
      "cell_type": "code",
      "source": [
        "# Step 1: Calculate Prior Probabilities\n",
        "prior_probs = defaultdict(float)\n",
        "total_pages = len(y_train)\n",
        "for book in y_train:\n",
        "    prior_probs[book] += 1\n",
        "for book in prior_probs:\n",
        "    prior_probs[book] /= total_pages\n",
        "\n",
        "# Step 2: Calculate Conditional Probabilities\n",
        "cond_probs = defaultdict(lambda: defaultdict(float))\n",
        "token_counts = defaultdict(lambda: defaultdict(int))\n",
        "total_tokens_per_book = defaultdict(int)\n",
        "\n",
        "for tokens, book in zip(X_train, y_train):\n",
        "    for token in tokens.split():  # Assuming tokens are space-separated strings\n",
        "        token_counts[book][token] += 1\n",
        "        total_tokens_per_book[book] += 1\n",
        "\n",
        "# Convert counts to probabilities\n",
        "for book in token_counts:\n",
        "    for token in token_counts[book]:\n",
        "        cond_probs[book][token] = token_counts[book][token] / total_tokens_per_book[book]\n",
        "\n",
        "# Step 3: Prediction Function\n",
        "def predict(tokens):\n",
        "    max_prob = float('-inf')\n",
        "    best_book = None\n",
        "    for book in prior_probs:\n",
        "        log_prob = math.log(prior_probs[book])  # Log to prevent underflow\n",
        "        for token in tokens.split():\n",
        "            if token in cond_probs[book]:\n",
        "                log_prob += math.log(cond_probs[book][token])\n",
        "            else:\n",
        "                log_prob += math.log(1 / (total_tokens_per_book[book] + 1))  # Laplace smoothing\n",
        "        if log_prob > max_prob:\n",
        "            max_prob = log_prob\n",
        "            best_book = book\n",
        "    return best_book\n",
        "\n",
        "# Example Prediction with a Validation Set\n",
        "correct = 0\n",
        "for tokens, true_book in zip(X_val, y_val):\n",
        "    predicted_book = predict(tokens)\n",
        "    if predicted_book == true_book:\n",
        "        correct += 1\n",
        "\n",
        "accuracy = correct / len(y_val)\n",
        "print(f\"Validation Accuracy: {accuracy:.2%}\")\n",
        "\n",
        "# Example usage with a new page\n",
        "test_page = \"Hermione snatched the schedule back, blushing furiously.\"\n",
        "predicted_book = predict(test_page)\n",
        "print(f\"The predicted book for the given text is: {predicted_book}\")"
      ],
      "metadata": {
        "colab": {
          "base_uri": "https://localhost:8080/"
        },
        "id": "ASNPsj7zMZkS",
        "outputId": "f8770849-0052-4d06-e136-be3d4252fef9"
      },
      "execution_count": 11,
      "outputs": [
        {
          "output_type": "stream",
          "name": "stdout",
          "text": [
            "Validation Accuracy: 67.06%\n",
            "The predicted book for the given text is: HP1\n"
          ]
        }
      ]
    }
  ]
}