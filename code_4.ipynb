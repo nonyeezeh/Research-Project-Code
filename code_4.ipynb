{
  "nbformat": 4,
  "nbformat_minor": 0,
  "metadata": {
    "colab": {
      "provenance": [],
      "collapsed_sections": [
        "HTULtutmv9Uo",
        "7jLxJI2Lp6uR",
        "e9diQdaPrgUc"
      ],
      "include_colab_link": true
    },
    "kernelspec": {
      "name": "python3",
      "display_name": "Python 3"
    },
    "language_info": {
      "name": "python"
    },
    "widgets": {
      "application/vnd.jupyter.widget-state+json": {
        "d0263a3a01104c8d9a1255045d90bdfe": {
          "model_module": "@jupyter-widgets/controls",
          "model_name": "HBoxModel",
          "model_module_version": "1.5.0",
          "state": {
            "_dom_classes": [],
            "_model_module": "@jupyter-widgets/controls",
            "_model_module_version": "1.5.0",
            "_model_name": "HBoxModel",
            "_view_count": null,
            "_view_module": "@jupyter-widgets/controls",
            "_view_module_version": "1.5.0",
            "_view_name": "HBoxView",
            "box_style": "",
            "children": [
              "IPY_MODEL_658c77e05e2f424baecdb035a6bb29bf",
              "IPY_MODEL_e1e3fd1b6642437d954775a65d59bb4a",
              "IPY_MODEL_f9c160ded7ce480285e0572b4cce56ea"
            ],
            "layout": "IPY_MODEL_dfbb3157c85b4b48ad7bcc8f8ecf44df"
          }
        },
        "658c77e05e2f424baecdb035a6bb29bf": {
          "model_module": "@jupyter-widgets/controls",
          "model_name": "HTMLModel",
          "model_module_version": "1.5.0",
          "state": {
            "_dom_classes": [],
            "_model_module": "@jupyter-widgets/controls",
            "_model_module_version": "1.5.0",
            "_model_name": "HTMLModel",
            "_view_count": null,
            "_view_module": "@jupyter-widgets/controls",
            "_view_module_version": "1.5.0",
            "_view_name": "HTMLView",
            "description": "",
            "description_tooltip": null,
            "layout": "IPY_MODEL_1c522bd43dbc465292befa69d7778192",
            "placeholder": "​",
            "style": "IPY_MODEL_bbd498c48dd74a909be4feb34e28e3cf",
            "value": "  0%"
          }
        },
        "e1e3fd1b6642437d954775a65d59bb4a": {
          "model_module": "@jupyter-widgets/controls",
          "model_name": "FloatProgressModel",
          "model_module_version": "1.5.0",
          "state": {
            "_dom_classes": [],
            "_model_module": "@jupyter-widgets/controls",
            "_model_module_version": "1.5.0",
            "_model_name": "FloatProgressModel",
            "_view_count": null,
            "_view_module": "@jupyter-widgets/controls",
            "_view_module_version": "1.5.0",
            "_view_name": "ProgressView",
            "bar_style": "danger",
            "description": "",
            "description_tooltip": null,
            "layout": "IPY_MODEL_06fa36e51730429082c633c1b98f9f10",
            "max": 1000000,
            "min": 0,
            "orientation": "horizontal",
            "style": "IPY_MODEL_1cdb82613a4544969f1e9c159921a3a9",
            "value": 2
          }
        },
        "f9c160ded7ce480285e0572b4cce56ea": {
          "model_module": "@jupyter-widgets/controls",
          "model_name": "HTMLModel",
          "model_module_version": "1.5.0",
          "state": {
            "_dom_classes": [],
            "_model_module": "@jupyter-widgets/controls",
            "_model_module_version": "1.5.0",
            "_model_name": "HTMLModel",
            "_view_count": null,
            "_view_module": "@jupyter-widgets/controls",
            "_view_module_version": "1.5.0",
            "_view_name": "HTMLView",
            "description": "",
            "description_tooltip": null,
            "layout": "IPY_MODEL_03e3ba9e4c194a75acd9960f77d42fb1",
            "placeholder": "​",
            "style": "IPY_MODEL_fd2af2c7bdd8454ba701e8928533cf35",
            "value": " 2/1000000 [00:00&lt;8:56:48, 31.05it/s]"
          }
        },
        "dfbb3157c85b4b48ad7bcc8f8ecf44df": {
          "model_module": "@jupyter-widgets/base",
          "model_name": "LayoutModel",
          "model_module_version": "1.2.0",
          "state": {
            "_model_module": "@jupyter-widgets/base",
            "_model_module_version": "1.2.0",
            "_model_name": "LayoutModel",
            "_view_count": null,
            "_view_module": "@jupyter-widgets/base",
            "_view_module_version": "1.2.0",
            "_view_name": "LayoutView",
            "align_content": null,
            "align_items": null,
            "align_self": null,
            "border": null,
            "bottom": null,
            "display": null,
            "flex": null,
            "flex_flow": null,
            "grid_area": null,
            "grid_auto_columns": null,
            "grid_auto_flow": null,
            "grid_auto_rows": null,
            "grid_column": null,
            "grid_gap": null,
            "grid_row": null,
            "grid_template_areas": null,
            "grid_template_columns": null,
            "grid_template_rows": null,
            "height": null,
            "justify_content": null,
            "justify_items": null,
            "left": null,
            "margin": null,
            "max_height": null,
            "max_width": null,
            "min_height": null,
            "min_width": null,
            "object_fit": null,
            "object_position": null,
            "order": null,
            "overflow": null,
            "overflow_x": null,
            "overflow_y": null,
            "padding": null,
            "right": null,
            "top": null,
            "visibility": null,
            "width": null
          }
        },
        "1c522bd43dbc465292befa69d7778192": {
          "model_module": "@jupyter-widgets/base",
          "model_name": "LayoutModel",
          "model_module_version": "1.2.0",
          "state": {
            "_model_module": "@jupyter-widgets/base",
            "_model_module_version": "1.2.0",
            "_model_name": "LayoutModel",
            "_view_count": null,
            "_view_module": "@jupyter-widgets/base",
            "_view_module_version": "1.2.0",
            "_view_name": "LayoutView",
            "align_content": null,
            "align_items": null,
            "align_self": null,
            "border": null,
            "bottom": null,
            "display": null,
            "flex": null,
            "flex_flow": null,
            "grid_area": null,
            "grid_auto_columns": null,
            "grid_auto_flow": null,
            "grid_auto_rows": null,
            "grid_column": null,
            "grid_gap": null,
            "grid_row": null,
            "grid_template_areas": null,
            "grid_template_columns": null,
            "grid_template_rows": null,
            "height": null,
            "justify_content": null,
            "justify_items": null,
            "left": null,
            "margin": null,
            "max_height": null,
            "max_width": null,
            "min_height": null,
            "min_width": null,
            "object_fit": null,
            "object_position": null,
            "order": null,
            "overflow": null,
            "overflow_x": null,
            "overflow_y": null,
            "padding": null,
            "right": null,
            "top": null,
            "visibility": null,
            "width": null
          }
        },
        "bbd498c48dd74a909be4feb34e28e3cf": {
          "model_module": "@jupyter-widgets/controls",
          "model_name": "DescriptionStyleModel",
          "model_module_version": "1.5.0",
          "state": {
            "_model_module": "@jupyter-widgets/controls",
            "_model_module_version": "1.5.0",
            "_model_name": "DescriptionStyleModel",
            "_view_count": null,
            "_view_module": "@jupyter-widgets/base",
            "_view_module_version": "1.2.0",
            "_view_name": "StyleView",
            "description_width": ""
          }
        },
        "06fa36e51730429082c633c1b98f9f10": {
          "model_module": "@jupyter-widgets/base",
          "model_name": "LayoutModel",
          "model_module_version": "1.2.0",
          "state": {
            "_model_module": "@jupyter-widgets/base",
            "_model_module_version": "1.2.0",
            "_model_name": "LayoutModel",
            "_view_count": null,
            "_view_module": "@jupyter-widgets/base",
            "_view_module_version": "1.2.0",
            "_view_name": "LayoutView",
            "align_content": null,
            "align_items": null,
            "align_self": null,
            "border": null,
            "bottom": null,
            "display": null,
            "flex": null,
            "flex_flow": null,
            "grid_area": null,
            "grid_auto_columns": null,
            "grid_auto_flow": null,
            "grid_auto_rows": null,
            "grid_column": null,
            "grid_gap": null,
            "grid_row": null,
            "grid_template_areas": null,
            "grid_template_columns": null,
            "grid_template_rows": null,
            "height": null,
            "justify_content": null,
            "justify_items": null,
            "left": null,
            "margin": null,
            "max_height": null,
            "max_width": null,
            "min_height": null,
            "min_width": null,
            "object_fit": null,
            "object_position": null,
            "order": null,
            "overflow": null,
            "overflow_x": null,
            "overflow_y": null,
            "padding": null,
            "right": null,
            "top": null,
            "visibility": null,
            "width": null
          }
        },
        "1cdb82613a4544969f1e9c159921a3a9": {
          "model_module": "@jupyter-widgets/controls",
          "model_name": "ProgressStyleModel",
          "model_module_version": "1.5.0",
          "state": {
            "_model_module": "@jupyter-widgets/controls",
            "_model_module_version": "1.5.0",
            "_model_name": "ProgressStyleModel",
            "_view_count": null,
            "_view_module": "@jupyter-widgets/base",
            "_view_module_version": "1.2.0",
            "_view_name": "StyleView",
            "bar_color": null,
            "description_width": ""
          }
        },
        "03e3ba9e4c194a75acd9960f77d42fb1": {
          "model_module": "@jupyter-widgets/base",
          "model_name": "LayoutModel",
          "model_module_version": "1.2.0",
          "state": {
            "_model_module": "@jupyter-widgets/base",
            "_model_module_version": "1.2.0",
            "_model_name": "LayoutModel",
            "_view_count": null,
            "_view_module": "@jupyter-widgets/base",
            "_view_module_version": "1.2.0",
            "_view_name": "LayoutView",
            "align_content": null,
            "align_items": null,
            "align_self": null,
            "border": null,
            "bottom": null,
            "display": null,
            "flex": null,
            "flex_flow": null,
            "grid_area": null,
            "grid_auto_columns": null,
            "grid_auto_flow": null,
            "grid_auto_rows": null,
            "grid_column": null,
            "grid_gap": null,
            "grid_row": null,
            "grid_template_areas": null,
            "grid_template_columns": null,
            "grid_template_rows": null,
            "height": null,
            "justify_content": null,
            "justify_items": null,
            "left": null,
            "margin": null,
            "max_height": null,
            "max_width": null,
            "min_height": null,
            "min_width": null,
            "object_fit": null,
            "object_position": null,
            "order": null,
            "overflow": null,
            "overflow_x": null,
            "overflow_y": null,
            "padding": null,
            "right": null,
            "top": null,
            "visibility": null,
            "width": null
          }
        },
        "fd2af2c7bdd8454ba701e8928533cf35": {
          "model_module": "@jupyter-widgets/controls",
          "model_name": "DescriptionStyleModel",
          "model_module_version": "1.5.0",
          "state": {
            "_model_module": "@jupyter-widgets/controls",
            "_model_module_version": "1.5.0",
            "_model_name": "DescriptionStyleModel",
            "_view_count": null,
            "_view_module": "@jupyter-widgets/base",
            "_view_module_version": "1.2.0",
            "_view_name": "StyleView",
            "description_width": ""
          }
        }
      }
    }
  },
  "cells": [
    {
      "cell_type": "markdown",
      "metadata": {
        "id": "view-in-github",
        "colab_type": "text"
      },
      "source": [
        "<a href=\"https://colab.research.google.com/github/nonyeezeh/Research-Project-Code/blob/main/code_4.ipynb\" target=\"_parent\"><img src=\"https://colab.research.google.com/assets/colab-badge.svg\" alt=\"Open In Colab\"/></a>"
      ]
    },
    {
      "cell_type": "markdown",
      "source": [
        "# Imports"
      ],
      "metadata": {
        "id": "HTULtutmv9Uo"
      }
    },
    {
      "cell_type": "code",
      "source": [
        "!pip install pgmpy"
      ],
      "metadata": {
        "collapsed": true,
        "id": "mi7Oa-nPoB58",
        "outputId": "9d2de725-0a5f-4546-84cb-013cd9807a9a",
        "colab": {
          "base_uri": "https://localhost:8080/"
        }
      },
      "execution_count": 3,
      "outputs": [
        {
          "output_type": "stream",
          "name": "stdout",
          "text": [
            "Collecting pgmpy\n",
            "  Downloading pgmpy-0.1.26-py3-none-any.whl.metadata (9.1 kB)\n",
            "Requirement already satisfied: networkx in /usr/local/lib/python3.10/dist-packages (from pgmpy) (3.3)\n",
            "Requirement already satisfied: numpy in /usr/local/lib/python3.10/dist-packages (from pgmpy) (1.26.4)\n",
            "Requirement already satisfied: scipy in /usr/local/lib/python3.10/dist-packages (from pgmpy) (1.13.1)\n",
            "Requirement already satisfied: scikit-learn in /usr/local/lib/python3.10/dist-packages (from pgmpy) (1.3.2)\n",
            "Requirement already satisfied: pandas in /usr/local/lib/python3.10/dist-packages (from pgmpy) (2.1.4)\n",
            "Requirement already satisfied: pyparsing in /usr/local/lib/python3.10/dist-packages (from pgmpy) (3.1.2)\n",
            "Requirement already satisfied: torch in /usr/local/lib/python3.10/dist-packages (from pgmpy) (2.3.1+cu121)\n",
            "Requirement already satisfied: statsmodels in /usr/local/lib/python3.10/dist-packages (from pgmpy) (0.14.2)\n",
            "Requirement already satisfied: tqdm in /usr/local/lib/python3.10/dist-packages (from pgmpy) (4.66.5)\n",
            "Requirement already satisfied: joblib in /usr/local/lib/python3.10/dist-packages (from pgmpy) (1.4.2)\n",
            "Requirement already satisfied: opt-einsum in /usr/local/lib/python3.10/dist-packages (from pgmpy) (3.3.0)\n",
            "Requirement already satisfied: xgboost in /usr/local/lib/python3.10/dist-packages (from pgmpy) (2.1.1)\n",
            "Requirement already satisfied: google-generativeai in /usr/local/lib/python3.10/dist-packages (from pgmpy) (0.7.2)\n",
            "Requirement already satisfied: google-ai-generativelanguage==0.6.6 in /usr/local/lib/python3.10/dist-packages (from google-generativeai->pgmpy) (0.6.6)\n",
            "Requirement already satisfied: google-api-core in /usr/local/lib/python3.10/dist-packages (from google-generativeai->pgmpy) (2.19.1)\n",
            "Requirement already satisfied: google-api-python-client in /usr/local/lib/python3.10/dist-packages (from google-generativeai->pgmpy) (2.137.0)\n",
            "Requirement already satisfied: google-auth>=2.15.0 in /usr/local/lib/python3.10/dist-packages (from google-generativeai->pgmpy) (2.27.0)\n",
            "Requirement already satisfied: protobuf in /usr/local/lib/python3.10/dist-packages (from google-generativeai->pgmpy) (3.20.3)\n",
            "Requirement already satisfied: pydantic in /usr/local/lib/python3.10/dist-packages (from google-generativeai->pgmpy) (2.8.2)\n",
            "Requirement already satisfied: typing-extensions in /usr/local/lib/python3.10/dist-packages (from google-generativeai->pgmpy) (4.12.2)\n",
            "Requirement already satisfied: proto-plus<2.0.0dev,>=1.22.3 in /usr/local/lib/python3.10/dist-packages (from google-ai-generativelanguage==0.6.6->google-generativeai->pgmpy) (1.24.0)\n",
            "Requirement already satisfied: python-dateutil>=2.8.2 in /usr/local/lib/python3.10/dist-packages (from pandas->pgmpy) (2.8.2)\n",
            "Requirement already satisfied: pytz>=2020.1 in /usr/local/lib/python3.10/dist-packages (from pandas->pgmpy) (2024.1)\n",
            "Requirement already satisfied: tzdata>=2022.1 in /usr/local/lib/python3.10/dist-packages (from pandas->pgmpy) (2024.1)\n",
            "Requirement already satisfied: threadpoolctl>=2.0.0 in /usr/local/lib/python3.10/dist-packages (from scikit-learn->pgmpy) (3.5.0)\n",
            "Requirement already satisfied: patsy>=0.5.6 in /usr/local/lib/python3.10/dist-packages (from statsmodels->pgmpy) (0.5.6)\n",
            "Requirement already satisfied: packaging>=21.3 in /usr/local/lib/python3.10/dist-packages (from statsmodels->pgmpy) (24.1)\n",
            "Requirement already satisfied: filelock in /usr/local/lib/python3.10/dist-packages (from torch->pgmpy) (3.15.4)\n",
            "Requirement already satisfied: sympy in /usr/local/lib/python3.10/dist-packages (from torch->pgmpy) (1.13.2)\n",
            "Requirement already satisfied: jinja2 in /usr/local/lib/python3.10/dist-packages (from torch->pgmpy) (3.1.4)\n",
            "Requirement already satisfied: fsspec in /usr/local/lib/python3.10/dist-packages (from torch->pgmpy) (2024.6.1)\n",
            "Collecting nvidia-cuda-nvrtc-cu12==12.1.105 (from torch->pgmpy)\n",
            "  Using cached nvidia_cuda_nvrtc_cu12-12.1.105-py3-none-manylinux1_x86_64.whl.metadata (1.5 kB)\n",
            "Collecting nvidia-cuda-runtime-cu12==12.1.105 (from torch->pgmpy)\n",
            "  Using cached nvidia_cuda_runtime_cu12-12.1.105-py3-none-manylinux1_x86_64.whl.metadata (1.5 kB)\n",
            "Collecting nvidia-cuda-cupti-cu12==12.1.105 (from torch->pgmpy)\n",
            "  Using cached nvidia_cuda_cupti_cu12-12.1.105-py3-none-manylinux1_x86_64.whl.metadata (1.6 kB)\n",
            "Collecting nvidia-cudnn-cu12==8.9.2.26 (from torch->pgmpy)\n",
            "  Using cached nvidia_cudnn_cu12-8.9.2.26-py3-none-manylinux1_x86_64.whl.metadata (1.6 kB)\n",
            "Collecting nvidia-cublas-cu12==12.1.3.1 (from torch->pgmpy)\n",
            "  Using cached nvidia_cublas_cu12-12.1.3.1-py3-none-manylinux1_x86_64.whl.metadata (1.5 kB)\n",
            "Collecting nvidia-cufft-cu12==11.0.2.54 (from torch->pgmpy)\n",
            "  Using cached nvidia_cufft_cu12-11.0.2.54-py3-none-manylinux1_x86_64.whl.metadata (1.5 kB)\n",
            "Collecting nvidia-curand-cu12==10.3.2.106 (from torch->pgmpy)\n",
            "  Using cached nvidia_curand_cu12-10.3.2.106-py3-none-manylinux1_x86_64.whl.metadata (1.5 kB)\n",
            "Collecting nvidia-cusolver-cu12==11.4.5.107 (from torch->pgmpy)\n",
            "  Using cached nvidia_cusolver_cu12-11.4.5.107-py3-none-manylinux1_x86_64.whl.metadata (1.6 kB)\n",
            "Collecting nvidia-cusparse-cu12==12.1.0.106 (from torch->pgmpy)\n",
            "  Using cached nvidia_cusparse_cu12-12.1.0.106-py3-none-manylinux1_x86_64.whl.metadata (1.6 kB)\n",
            "Collecting nvidia-nccl-cu12==2.20.5 (from torch->pgmpy)\n",
            "  Using cached nvidia_nccl_cu12-2.20.5-py3-none-manylinux2014_x86_64.whl.metadata (1.8 kB)\n",
            "Collecting nvidia-nvtx-cu12==12.1.105 (from torch->pgmpy)\n",
            "  Using cached nvidia_nvtx_cu12-12.1.105-py3-none-manylinux1_x86_64.whl.metadata (1.7 kB)\n",
            "Requirement already satisfied: triton==2.3.1 in /usr/local/lib/python3.10/dist-packages (from torch->pgmpy) (2.3.1)\n",
            "Collecting nvidia-nvjitlink-cu12 (from nvidia-cusolver-cu12==11.4.5.107->torch->pgmpy)\n",
            "  Using cached nvidia_nvjitlink_cu12-12.6.20-py3-none-manylinux2014_x86_64.whl.metadata (1.5 kB)\n",
            "Requirement already satisfied: googleapis-common-protos<2.0.dev0,>=1.56.2 in /usr/local/lib/python3.10/dist-packages (from google-api-core->google-generativeai->pgmpy) (1.63.2)\n",
            "Requirement already satisfied: requests<3.0.0.dev0,>=2.18.0 in /usr/local/lib/python3.10/dist-packages (from google-api-core->google-generativeai->pgmpy) (2.32.3)\n",
            "Requirement already satisfied: cachetools<6.0,>=2.0.0 in /usr/local/lib/python3.10/dist-packages (from google-auth>=2.15.0->google-generativeai->pgmpy) (5.5.0)\n",
            "Requirement already satisfied: pyasn1-modules>=0.2.1 in /usr/local/lib/python3.10/dist-packages (from google-auth>=2.15.0->google-generativeai->pgmpy) (0.4.0)\n",
            "Requirement already satisfied: rsa<5,>=3.1.4 in /usr/local/lib/python3.10/dist-packages (from google-auth>=2.15.0->google-generativeai->pgmpy) (4.9)\n",
            "Requirement already satisfied: six in /usr/local/lib/python3.10/dist-packages (from patsy>=0.5.6->statsmodels->pgmpy) (1.16.0)\n",
            "Requirement already satisfied: httplib2<1.dev0,>=0.19.0 in /usr/local/lib/python3.10/dist-packages (from google-api-python-client->google-generativeai->pgmpy) (0.22.0)\n",
            "Requirement already satisfied: google-auth-httplib2<1.0.0,>=0.2.0 in /usr/local/lib/python3.10/dist-packages (from google-api-python-client->google-generativeai->pgmpy) (0.2.0)\n",
            "Requirement already satisfied: uritemplate<5,>=3.0.1 in /usr/local/lib/python3.10/dist-packages (from google-api-python-client->google-generativeai->pgmpy) (4.1.1)\n",
            "Requirement already satisfied: MarkupSafe>=2.0 in /usr/local/lib/python3.10/dist-packages (from jinja2->torch->pgmpy) (2.1.5)\n",
            "Requirement already satisfied: annotated-types>=0.4.0 in /usr/local/lib/python3.10/dist-packages (from pydantic->google-generativeai->pgmpy) (0.7.0)\n",
            "Requirement already satisfied: pydantic-core==2.20.1 in /usr/local/lib/python3.10/dist-packages (from pydantic->google-generativeai->pgmpy) (2.20.1)\n",
            "Requirement already satisfied: mpmath<1.4,>=1.1.0 in /usr/local/lib/python3.10/dist-packages (from sympy->torch->pgmpy) (1.3.0)\n",
            "Requirement already satisfied: grpcio<2.0dev,>=1.33.2 in /usr/local/lib/python3.10/dist-packages (from google-api-core[grpc]!=2.0.*,!=2.1.*,!=2.10.*,!=2.2.*,!=2.3.*,!=2.4.*,!=2.5.*,!=2.6.*,!=2.7.*,!=2.8.*,!=2.9.*,<3.0.0dev,>=1.34.1->google-ai-generativelanguage==0.6.6->google-generativeai->pgmpy) (1.64.1)\n",
            "Requirement already satisfied: grpcio-status<2.0.dev0,>=1.33.2 in /usr/local/lib/python3.10/dist-packages (from google-api-core[grpc]!=2.0.*,!=2.1.*,!=2.10.*,!=2.2.*,!=2.3.*,!=2.4.*,!=2.5.*,!=2.6.*,!=2.7.*,!=2.8.*,!=2.9.*,<3.0.0dev,>=1.34.1->google-ai-generativelanguage==0.6.6->google-generativeai->pgmpy) (1.48.2)\n",
            "Requirement already satisfied: pyasn1<0.7.0,>=0.4.6 in /usr/local/lib/python3.10/dist-packages (from pyasn1-modules>=0.2.1->google-auth>=2.15.0->google-generativeai->pgmpy) (0.6.0)\n",
            "Requirement already satisfied: charset-normalizer<4,>=2 in /usr/local/lib/python3.10/dist-packages (from requests<3.0.0.dev0,>=2.18.0->google-api-core->google-generativeai->pgmpy) (3.3.2)\n",
            "Requirement already satisfied: idna<4,>=2.5 in /usr/local/lib/python3.10/dist-packages (from requests<3.0.0.dev0,>=2.18.0->google-api-core->google-generativeai->pgmpy) (3.7)\n",
            "Requirement already satisfied: urllib3<3,>=1.21.1 in /usr/local/lib/python3.10/dist-packages (from requests<3.0.0.dev0,>=2.18.0->google-api-core->google-generativeai->pgmpy) (2.0.7)\n",
            "Requirement already satisfied: certifi>=2017.4.17 in /usr/local/lib/python3.10/dist-packages (from requests<3.0.0.dev0,>=2.18.0->google-api-core->google-generativeai->pgmpy) (2024.7.4)\n",
            "Downloading pgmpy-0.1.26-py3-none-any.whl (2.0 MB)\n",
            "\u001b[2K   \u001b[90m━━━━━━━━━━━━━━━━━━━━━━━━━━━━━━━━━━━━━━━━\u001b[0m \u001b[32m2.0/2.0 MB\u001b[0m \u001b[31m7.7 MB/s\u001b[0m eta \u001b[36m0:00:00\u001b[0m\n",
            "\u001b[?25hUsing cached nvidia_cublas_cu12-12.1.3.1-py3-none-manylinux1_x86_64.whl (410.6 MB)\n",
            "Using cached nvidia_cuda_cupti_cu12-12.1.105-py3-none-manylinux1_x86_64.whl (14.1 MB)\n",
            "Using cached nvidia_cuda_nvrtc_cu12-12.1.105-py3-none-manylinux1_x86_64.whl (23.7 MB)\n",
            "Using cached nvidia_cuda_runtime_cu12-12.1.105-py3-none-manylinux1_x86_64.whl (823 kB)\n",
            "Using cached nvidia_cudnn_cu12-8.9.2.26-py3-none-manylinux1_x86_64.whl (731.7 MB)\n",
            "Using cached nvidia_cufft_cu12-11.0.2.54-py3-none-manylinux1_x86_64.whl (121.6 MB)\n",
            "Using cached nvidia_curand_cu12-10.3.2.106-py3-none-manylinux1_x86_64.whl (56.5 MB)\n",
            "Using cached nvidia_cusolver_cu12-11.4.5.107-py3-none-manylinux1_x86_64.whl (124.2 MB)\n",
            "Using cached nvidia_cusparse_cu12-12.1.0.106-py3-none-manylinux1_x86_64.whl (196.0 MB)\n",
            "Using cached nvidia_nccl_cu12-2.20.5-py3-none-manylinux2014_x86_64.whl (176.2 MB)\n",
            "Using cached nvidia_nvtx_cu12-12.1.105-py3-none-manylinux1_x86_64.whl (99 kB)\n",
            "Using cached nvidia_nvjitlink_cu12-12.6.20-py3-none-manylinux2014_x86_64.whl (19.7 MB)\n",
            "Installing collected packages: nvidia-nvtx-cu12, nvidia-nvjitlink-cu12, nvidia-nccl-cu12, nvidia-curand-cu12, nvidia-cufft-cu12, nvidia-cuda-runtime-cu12, nvidia-cuda-nvrtc-cu12, nvidia-cuda-cupti-cu12, nvidia-cublas-cu12, nvidia-cusparse-cu12, nvidia-cudnn-cu12, nvidia-cusolver-cu12, pgmpy\n",
            "Successfully installed nvidia-cublas-cu12-12.1.3.1 nvidia-cuda-cupti-cu12-12.1.105 nvidia-cuda-nvrtc-cu12-12.1.105 nvidia-cuda-runtime-cu12-12.1.105 nvidia-cudnn-cu12-8.9.2.26 nvidia-cufft-cu12-11.0.2.54 nvidia-curand-cu12-10.3.2.106 nvidia-cusolver-cu12-11.4.5.107 nvidia-cusparse-cu12-12.1.0.106 nvidia-nccl-cu12-2.20.5 nvidia-nvjitlink-cu12-12.6.20 nvidia-nvtx-cu12-12.1.105 pgmpy-0.1.26\n"
          ]
        }
      ]
    },
    {
      "cell_type": "code",
      "source": [
        "import numpy as np\n",
        "from tabulate import tabulate\n",
        "import pandas as pd\n",
        "import networkx as nx\n",
        "import plotly.graph_objects as go\n",
        "\n",
        "import pandas as pd\n",
        "import tensorflow as tf\n",
        "from sklearn.preprocessing import OneHotEncoder\n",
        "\n",
        "from pgmpy.estimators import HillClimbSearch, BicScore, MaximumLikelihoodEstimator\n",
        "from pgmpy.models import BayesianNetwork\n",
        "from pgmpy.inference import VariableElimination\n",
        "from sklearn.metrics import mean_squared_error\n",
        "\n",
        "import matplotlib.pyplot as plt"
      ],
      "metadata": {
        "id": "S96xFeNgv--u"
      },
      "execution_count": 16,
      "outputs": []
    },
    {
      "cell_type": "markdown",
      "source": [
        "# Research Question"
      ],
      "metadata": {
        "id": "7jLxJI2Lp6uR"
      }
    },
    {
      "cell_type": "markdown",
      "source": [
        "##### In this research, how does the predictive accuracy of a neural network compare to that of a Bayesian network in predicting stock prices, particularly when trained on varying sample sizes of data generated by a Bayesian network?"
      ],
      "metadata": {
        "id": "nynf5eXeqJwi"
      }
    },
    {
      "cell_type": "markdown",
      "source": [
        "# Expectations"
      ],
      "metadata": {
        "id": "e9diQdaPrgUc"
      }
    },
    {
      "cell_type": "markdown",
      "source": [
        "1. With larger training samples, the neural network's performance is expected to improve due to having sufficient data for effective learning, while the Bayesian network may outperform the neural network on smaller samples.\n",
        "2. The Bayesian network is anticipated to show more consistent performance across different sample sizes due to its probabilistic nature and reliance on prior knowledge.\n",
        "3. The neural network might require more computational resources and time to train, especially with increasing sample sizes, compared to the Bayesian network."
      ],
      "metadata": {
        "id": "kKQIwmVvrivp"
      }
    },
    {
      "cell_type": "markdown",
      "source": [
        "# Ground Truth"
      ],
      "metadata": {
        "id": "hnjzj-JzuLt_"
      }
    },
    {
      "cell_type": "markdown",
      "source": [
        "## Bayesian Network Data Generation"
      ],
      "metadata": {
        "id": "__g8evr7uIX1"
      }
    },
    {
      "cell_type": "code",
      "source": [
        "# Define the number of samples\n",
        "num_samples = 50\n",
        "\n",
        "# Define the possible values for each variable\n",
        "values = {\n",
        "    'IR': ['low', 'medium', 'high'],\n",
        "    'EI': ['poor', 'average', 'good'],\n",
        "    'SP': ['decrease', 'stable', 'increase']\n",
        "}\n",
        "\n",
        "#-------------------------------------------------------------------------------\n",
        "\n",
        "#Normal Data Generation\n",
        "# Functions to sample each variable with probabilities\n",
        "# def sample_IR():\n",
        "#     probabilities = np.random.dirichlet(np.ones(len(values['IR'])))\n",
        "#     rounded_probs = [round(p, 2) for p in probabilities]\n",
        "#     chosen_index = np.argmax(probabilities)\n",
        "#     chosen_value = values['IR'][chosen_index]\n",
        "#     return chosen_value, rounded_probs\n",
        "\n",
        "# def sample_EI(ir=None):\n",
        "#     probabilities = np.random.dirichlet(np.ones(len(values['EI'])))\n",
        "#     rounded_probs = [round(p, 2) for p in probabilities]\n",
        "#     chosen_index = np.argmax(probabilities)\n",
        "#     chosen_value = values['EI'][chosen_index]\n",
        "#     return chosen_value, rounded_probs\n",
        "\n",
        "# def sample_SP(ir, ei):\n",
        "#     # Generate probabilities based on a joint influence of IR and EI\n",
        "#     probabilities = np.random.dirichlet(np.ones(len(values['SP'])))\n",
        "#     rounded_probs = [round(p, 2) for p in probabilities]\n",
        "#     chosen_index = np.argmax(probabilities)\n",
        "#     chosen_value = values['SP'][chosen_index]\n",
        "#     return chosen_value, rounded_probs\n",
        "\n",
        "#-------------------------------------------------------------------------------\n",
        "\n",
        "#-------------------------------------------------------------------------------\n",
        "\n",
        "#Introducing Noise\n",
        "# Define a function to add Gaussian noise\n",
        "def add_noise(probabilities, noise_level=0.05):\n",
        "    noisy_probs = probabilities + np.random.normal(0, noise_level, len(probabilities))\n",
        "    noisy_probs = np.clip(noisy_probs, 0, 1)  # Ensure probabilities are within [0, 1]\n",
        "    noisy_probs /= noisy_probs.sum()  # Normalize to ensure they sum to 1\n",
        "    return noisy_probs\n",
        "\n",
        "def sample_IR():\n",
        "    probabilities = np.random.dirichlet(np.ones(len(values['IR'])))\n",
        "    probabilities = add_noise(probabilities, noise_level=0.05)  # Add noise\n",
        "    rounded_probs = [round(p, 2) for p in probabilities]\n",
        "    chosen_index = np.argmax(probabilities)\n",
        "    chosen_value = values['IR'][chosen_index]\n",
        "    return chosen_value, rounded_probs\n",
        "\n",
        "def sample_EI(ir=None):\n",
        "    probabilities = np.random.dirichlet(np.ones(len(values['EI'])))\n",
        "    probabilities = add_noise(probabilities, noise_level=0.05)  # Add noise\n",
        "    rounded_probs = [round(p, 2) for p in probabilities]\n",
        "    chosen_index = np.argmax(probabilities)\n",
        "    chosen_value = values['EI'][chosen_index]\n",
        "    return chosen_value, rounded_probs\n",
        "\n",
        "def sample_SP(ir, ei):\n",
        "    probabilities = np.random.dirichlet(np.ones(len(values['SP'])))\n",
        "    probabilities = add_noise(probabilities, noise_level=0.05)  # Add noise\n",
        "    rounded_probs = [round(p, 2) for p in probabilities]\n",
        "    chosen_index = np.argmax(probabilities)\n",
        "    chosen_value = values['SP'][chosen_index]\n",
        "    return chosen_value, rounded_probs\n",
        "\n",
        "#-------------------------------------------------------------------------------\n",
        "\n",
        "# Randomly determine the structure (edges)\n",
        "edges = []\n",
        "if np.random.rand() > 0.5:\n",
        "    edges.append(('IR', 'EI'))\n",
        "if np.random.rand() > 0.5:\n",
        "    edges.append(('EI', 'IR'))\n",
        "if np.random.rand() > 0.5:\n",
        "    edges.append(('IR', 'SP'))\n",
        "if np.random.rand() > 0.5:\n",
        "    edges.append(('EI', 'SP'))\n",
        "\n",
        "# Ensure there's at least one edge to SP (either from IR or EI)\n",
        "if not any(edge[1] == 'SP' for edge in edges):\n",
        "    edges.append(np.random.choice([('IR', 'SP'), ('EI', 'SP')]))\n",
        "\n",
        "# Generate the data and capture probabilities\n",
        "data = []\n",
        "probabilities_data = []\n",
        "\n",
        "for _ in range(num_samples):\n",
        "    ir, ir_probs = sample_IR()\n",
        "    ei, ei_probs = sample_EI(ir)\n",
        "    sp, sp_probs = sample_SP(ir, ei)\n",
        "\n",
        "    data.append([ir, ei, sp])\n",
        "    probabilities_data.append([\n",
        "        ','.join(map(str, ir_probs)),\n",
        "        ir,\n",
        "        ','.join(map(str, ei_probs)),\n",
        "        ei,\n",
        "        ','.join(map(str, sp_probs)),\n",
        "        sp\n",
        "    ])\n",
        "\n",
        "# Convert to DataFrame for the main data\n",
        "df = pd.DataFrame(data, columns=['IR', 'EI', 'SP'])\n",
        "\n",
        "# Save the main data to a CSV file\n",
        "df.to_csv('bn_data_structure.csv', index=False)\n",
        "\n",
        "# Convert to DataFrame for probabilities and chosen values\n",
        "probabilities_df = pd.DataFrame(probabilities_data, columns=[\n",
        "    'IR_Probabilities', 'Chosen_IR',\n",
        "    'EI_Probabilities', 'Chosen_EI',\n",
        "    'SP_Probabilities', 'Chosen_SP'\n",
        "])\n",
        "\n",
        "# Save the probabilities and chosen values to a CSV file\n",
        "#probabilities_df.to_csv('bn_probabilities.csv', index=False)\n",
        "\n",
        "# Display the DataFrame as a fancy table\n",
        "print(\"\\nProbabilities and chosen values:\")\n",
        "print(tabulate(probabilities_df.head(), headers='keys', tablefmt='fancy_grid'))\n",
        "\n",
        "#-----------------------------------------------------------------------------------------------------\n",
        "\n",
        "# Extract the necessary columns from the probabilities_df DataFrame\n",
        "test_data = probabilities_df[['Chosen_IR', 'Chosen_EI', 'Chosen_SP']]\n",
        "\n",
        "# Find the SP Probability corresponding to the chosen SP\n",
        "test_data['SP_Probability'] = probabilities_df.apply(\n",
        "    lambda row: float(row['SP_Probabilities'].split(',')[values['SP'].index(row['Chosen_SP'])]),\n",
        "    axis=1\n",
        ")\n",
        "\n",
        "# Rename the columns to match the intended output format\n",
        "test_data.rename(columns={\n",
        "    'Chosen_IR': 'IR',\n",
        "    'Chosen_EI': 'EI',\n",
        "    'Chosen_SP': 'SP'\n",
        "}, inplace=True)\n",
        "\n",
        "# Save the test data to a new CSV file with only the specified columns\n",
        "test_data.to_csv('bn_test_data_for_NN.csv', index=False)\n",
        "\n",
        "# Print confirmation\n",
        "print(\"Test data saved successfully as bn_test_data_for_NN.csv.\")"
      ],
      "metadata": {
        "id": "h7FwY9X77RrQ",
        "outputId": "f61f548a-8dcd-471b-ec4f-5caaedb70621",
        "colab": {
          "base_uri": "https://localhost:8080/"
        }
      },
      "execution_count": 6,
      "outputs": [
        {
          "output_type": "stream",
          "name": "stdout",
          "text": [
            "\n",
            "Probabilities and chosen values:\n",
            "╒════╤════════════════════╤═════════════╤════════════════════╤═════════════╤════════════════════╤═════════════╕\n",
            "│    │ IR_Probabilities   │ Chosen_IR   │ EI_Probabilities   │ Chosen_EI   │ SP_Probabilities   │ Chosen_SP   │\n",
            "╞════╪════════════════════╪═════════════╪════════════════════╪═════════════╪════════════════════╪═════════════╡\n",
            "│  0 │ 0.16,0.19,0.65     │ high        │ 0.57,0.0,0.43      │ poor        │ 0.11,0.37,0.51     │ increase    │\n",
            "├────┼────────────────────┼─────────────┼────────────────────┼─────────────┼────────────────────┼─────────────┤\n",
            "│  1 │ 0.04,0.0,0.96      │ high        │ 0.26,0.08,0.66     │ good        │ 0.05,0.74,0.21     │ stable      │\n",
            "├────┼────────────────────┼─────────────┼────────────────────┼─────────────┼────────────────────┼─────────────┤\n",
            "│  2 │ 0.14,0.38,0.48     │ high        │ 0.3,0.54,0.16      │ average     │ 0.11,0.29,0.6      │ increase    │\n",
            "├────┼────────────────────┼─────────────┼────────────────────┼─────────────┼────────────────────┼─────────────┤\n",
            "│  3 │ 0.58,0.16,0.26     │ low         │ 0.21,0.46,0.33     │ average     │ 0.28,0.13,0.59     │ increase    │\n",
            "├────┼────────────────────┼─────────────┼────────────────────┼─────────────┼────────────────────┼─────────────┤\n",
            "│  4 │ 0.57,0.16,0.27     │ low         │ 0.35,0.62,0.03     │ average     │ 0.52,0.09,0.39     │ decrease    │\n",
            "╘════╧════════════════════╧═════════════╧════════════════════╧═════════════╧════════════════════╧═════════════╛\n",
            "Test data saved successfully as bn_test_data_for_NN.csv.\n"
          ]
        },
        {
          "output_type": "stream",
          "name": "stderr",
          "text": [
            "<ipython-input-6-9e89ff372464>:135: SettingWithCopyWarning: \n",
            "A value is trying to be set on a copy of a slice from a DataFrame.\n",
            "Try using .loc[row_indexer,col_indexer] = value instead\n",
            "\n",
            "See the caveats in the documentation: https://pandas.pydata.org/pandas-docs/stable/user_guide/indexing.html#returning-a-view-versus-a-copy\n",
            "  test_data['SP_Probability'] = probabilities_df.apply(\n",
            "<ipython-input-6-9e89ff372464>:141: SettingWithCopyWarning: \n",
            "A value is trying to be set on a copy of a slice from a DataFrame\n",
            "\n",
            "See the caveats in the documentation: https://pandas.pydata.org/pandas-docs/stable/user_guide/indexing.html#returning-a-view-versus-a-copy\n",
            "  test_data.rename(columns={\n"
          ]
        }
      ]
    },
    {
      "cell_type": "code",
      "source": [
        "# Visualize the Bayesian Network structure using Plotly\n",
        "G = nx.DiGraph()\n",
        "\n",
        "# Add nodes and edges\n",
        "G.add_edges_from(edges)\n",
        "\n",
        "# Extract node positions for Plotly\n",
        "pos = nx.spring_layout(G)\n",
        "edge_x = []\n",
        "edge_y = []\n",
        "arrow_x = []\n",
        "arrow_y = []\n",
        "\n",
        "for edge in G.edges():\n",
        "    x0, y0 = pos[edge[0]]\n",
        "    x1, y1 = pos[edge[1]]\n",
        "    edge_x.append(x0)\n",
        "    edge_x.append(x1)\n",
        "    edge_x.append(None)\n",
        "    edge_y.append(y0)\n",
        "    edge_y.append(y1)\n",
        "    edge_y.append(None)\n",
        "\n",
        "    # Move arrows closer to the target node (x1, y1)\n",
        "    arrow_x.append(0.90 * x1 + 0.10 * x0)\n",
        "    arrow_y.append(0.90 * y1 + 0.10 * x0)\n",
        "\n",
        "\n",
        "edge_trace = go.Scatter(\n",
        "    x=edge_x, y=edge_y,\n",
        "    line=dict(width=2, color='gray'),\n",
        "    hoverinfo='none',\n",
        "    mode='lines')\n",
        "\n",
        "node_x = []\n",
        "node_y = []\n",
        "node_text = []\n",
        "node_hovertext = []\n",
        "node_color = []\n",
        "\n",
        "for node in G.nodes():\n",
        "    x, y = pos[node]\n",
        "    node_x.append(x)\n",
        "    node_y.append(y)\n",
        "    node_text.append(node)\n",
        "\n",
        "    # Customize hover text for each node\n",
        "    if node == 'IR':\n",
        "        node_hovertext.append('Interest Rates')\n",
        "    elif node == 'EI':\n",
        "        node_hovertext.append('Economic Indicators')\n",
        "    elif node == 'SP':\n",
        "        node_hovertext.append('Stock Price')\n",
        "    else:\n",
        "        node_hovertext.append(node)\n",
        "\n",
        "    # Highlight the SP node with a different color\n",
        "    if node == 'SP':\n",
        "        node_color.append('pink')\n",
        "    else:\n",
        "        node_color.append('purple')\n",
        "\n",
        "node_trace = go.Scatter(\n",
        "    x=node_x, y=node_y,\n",
        "    mode='markers+text',\n",
        "    text=node_text,\n",
        "    textposition=\"top center\",\n",
        "    hoverinfo='text',\n",
        "    hovertext=node_hovertext,\n",
        "    marker=dict(size=50, color=node_color, line=dict(width=2)))\n",
        "\n",
        "# Adding the arrow heads, placing them correctly outside the nodes\n",
        "#arrow_trace = go.Scatter(\n",
        "    #x=arrow_x, y=arrow_y,\n",
        "    #mode='markers',\n",
        "    #marker=dict(size=10, color='black', symbol='triangle-up'),\n",
        "    #hoverinfo='none'\n",
        "#)\n",
        "\n",
        "#fig = go.Figure(data=[edge_trace, node_trace, arrow_trace],\n",
        "fig = go.Figure(data=[edge_trace, node_trace],\n",
        "             layout=go.Layout(\n",
        "                showlegend=False,\n",
        "                hovermode='closest',\n",
        "                margin=dict(b=20, l=20, r=20, t=50),  # Adjusted margins to fit the title\n",
        "                xaxis=dict(showgrid=False, zeroline=False),\n",
        "                yaxis=dict(showgrid=False, zeroline=False),\n",
        "                plot_bgcolor='aliceblue')\n",
        "                )\n",
        "\n",
        "# Update layout to include a proper title\n",
        "fig.update_layout(title_text=\"Bayesian Network Structure\", title_x=0.5)\n",
        "\n",
        "fig.show()"
      ],
      "metadata": {
        "id": "tVJ1C7977Vp-",
        "outputId": "d6ad906e-2bbb-4038-cfb4-c21181e428f0",
        "colab": {
          "base_uri": "https://localhost:8080/",
          "height": 542
        }
      },
      "execution_count": 7,
      "outputs": [
        {
          "output_type": "display_data",
          "data": {
            "text/html": [
              "<html>\n",
              "<head><meta charset=\"utf-8\" /></head>\n",
              "<body>\n",
              "    <div>            <script src=\"https://cdnjs.cloudflare.com/ajax/libs/mathjax/2.7.5/MathJax.js?config=TeX-AMS-MML_SVG\"></script><script type=\"text/javascript\">if (window.MathJax && window.MathJax.Hub && window.MathJax.Hub.Config) {window.MathJax.Hub.Config({SVG: {font: \"STIX-Web\"}});}</script>                <script type=\"text/javascript\">window.PlotlyConfig = {MathJaxConfig: 'local'};</script>\n",
              "        <script charset=\"utf-8\" src=\"https://cdn.plot.ly/plotly-2.24.1.min.js\"></script>                <div id=\"25537d4b-5f11-48e2-9cfd-2438c633b708\" class=\"plotly-graph-div\" style=\"height:525px; width:100%;\"></div>            <script type=\"text/javascript\">                                    window.PLOTLYENV=window.PLOTLYENV || {};                                    if (document.getElementById(\"25537d4b-5f11-48e2-9cfd-2438c633b708\")) {                    Plotly.newPlot(                        \"25537d4b-5f11-48e2-9cfd-2438c633b708\",                        [{\"hoverinfo\":\"none\",\"line\":{\"color\":\"gray\",\"width\":2},\"mode\":\"lines\",\"x\":[0.43693308775410156,-0.7186157868360628,null,0.43693308775410156,0.2816826990819612,null,-0.7186157868360628,0.2816826990819612,null],\"y\":[0.31875053155435773,0.6812494684456422,null,0.31875053155435773,-1.0,null,0.6812494684456422,-1.0,null],\"type\":\"scatter\"},{\"hoverinfo\":\"text\",\"hovertext\":[\"Economic Indicators\",\"Interest Rates\",\"Stock Price\"],\"marker\":{\"color\":[\"purple\",\"purple\",\"pink\"],\"line\":{\"width\":2},\"size\":50},\"mode\":\"markers+text\",\"text\":[\"EI\",\"IR\",\"SP\"],\"textposition\":\"top center\",\"x\":[0.43693308775410156,-0.7186157868360628,0.2816826990819612],\"y\":[0.31875053155435773,0.6812494684456422,-1.0],\"type\":\"scatter\"}],                        {\"hovermode\":\"closest\",\"margin\":{\"b\":20,\"l\":20,\"r\":20,\"t\":50},\"plot_bgcolor\":\"aliceblue\",\"showlegend\":false,\"xaxis\":{\"showgrid\":false,\"zeroline\":false},\"yaxis\":{\"showgrid\":false,\"zeroline\":false},\"template\":{\"data\":{\"histogram2dcontour\":[{\"type\":\"histogram2dcontour\",\"colorbar\":{\"outlinewidth\":0,\"ticks\":\"\"},\"colorscale\":[[0.0,\"#0d0887\"],[0.1111111111111111,\"#46039f\"],[0.2222222222222222,\"#7201a8\"],[0.3333333333333333,\"#9c179e\"],[0.4444444444444444,\"#bd3786\"],[0.5555555555555556,\"#d8576b\"],[0.6666666666666666,\"#ed7953\"],[0.7777777777777778,\"#fb9f3a\"],[0.8888888888888888,\"#fdca26\"],[1.0,\"#f0f921\"]]}],\"choropleth\":[{\"type\":\"choropleth\",\"colorbar\":{\"outlinewidth\":0,\"ticks\":\"\"}}],\"histogram2d\":[{\"type\":\"histogram2d\",\"colorbar\":{\"outlinewidth\":0,\"ticks\":\"\"},\"colorscale\":[[0.0,\"#0d0887\"],[0.1111111111111111,\"#46039f\"],[0.2222222222222222,\"#7201a8\"],[0.3333333333333333,\"#9c179e\"],[0.4444444444444444,\"#bd3786\"],[0.5555555555555556,\"#d8576b\"],[0.6666666666666666,\"#ed7953\"],[0.7777777777777778,\"#fb9f3a\"],[0.8888888888888888,\"#fdca26\"],[1.0,\"#f0f921\"]]}],\"heatmap\":[{\"type\":\"heatmap\",\"colorbar\":{\"outlinewidth\":0,\"ticks\":\"\"},\"colorscale\":[[0.0,\"#0d0887\"],[0.1111111111111111,\"#46039f\"],[0.2222222222222222,\"#7201a8\"],[0.3333333333333333,\"#9c179e\"],[0.4444444444444444,\"#bd3786\"],[0.5555555555555556,\"#d8576b\"],[0.6666666666666666,\"#ed7953\"],[0.7777777777777778,\"#fb9f3a\"],[0.8888888888888888,\"#fdca26\"],[1.0,\"#f0f921\"]]}],\"heatmapgl\":[{\"type\":\"heatmapgl\",\"colorbar\":{\"outlinewidth\":0,\"ticks\":\"\"},\"colorscale\":[[0.0,\"#0d0887\"],[0.1111111111111111,\"#46039f\"],[0.2222222222222222,\"#7201a8\"],[0.3333333333333333,\"#9c179e\"],[0.4444444444444444,\"#bd3786\"],[0.5555555555555556,\"#d8576b\"],[0.6666666666666666,\"#ed7953\"],[0.7777777777777778,\"#fb9f3a\"],[0.8888888888888888,\"#fdca26\"],[1.0,\"#f0f921\"]]}],\"contourcarpet\":[{\"type\":\"contourcarpet\",\"colorbar\":{\"outlinewidth\":0,\"ticks\":\"\"}}],\"contour\":[{\"type\":\"contour\",\"colorbar\":{\"outlinewidth\":0,\"ticks\":\"\"},\"colorscale\":[[0.0,\"#0d0887\"],[0.1111111111111111,\"#46039f\"],[0.2222222222222222,\"#7201a8\"],[0.3333333333333333,\"#9c179e\"],[0.4444444444444444,\"#bd3786\"],[0.5555555555555556,\"#d8576b\"],[0.6666666666666666,\"#ed7953\"],[0.7777777777777778,\"#fb9f3a\"],[0.8888888888888888,\"#fdca26\"],[1.0,\"#f0f921\"]]}],\"surface\":[{\"type\":\"surface\",\"colorbar\":{\"outlinewidth\":0,\"ticks\":\"\"},\"colorscale\":[[0.0,\"#0d0887\"],[0.1111111111111111,\"#46039f\"],[0.2222222222222222,\"#7201a8\"],[0.3333333333333333,\"#9c179e\"],[0.4444444444444444,\"#bd3786\"],[0.5555555555555556,\"#d8576b\"],[0.6666666666666666,\"#ed7953\"],[0.7777777777777778,\"#fb9f3a\"],[0.8888888888888888,\"#fdca26\"],[1.0,\"#f0f921\"]]}],\"mesh3d\":[{\"type\":\"mesh3d\",\"colorbar\":{\"outlinewidth\":0,\"ticks\":\"\"}}],\"scatter\":[{\"fillpattern\":{\"fillmode\":\"overlay\",\"size\":10,\"solidity\":0.2},\"type\":\"scatter\"}],\"parcoords\":[{\"type\":\"parcoords\",\"line\":{\"colorbar\":{\"outlinewidth\":0,\"ticks\":\"\"}}}],\"scatterpolargl\":[{\"type\":\"scatterpolargl\",\"marker\":{\"colorbar\":{\"outlinewidth\":0,\"ticks\":\"\"}}}],\"bar\":[{\"error_x\":{\"color\":\"#2a3f5f\"},\"error_y\":{\"color\":\"#2a3f5f\"},\"marker\":{\"line\":{\"color\":\"#E5ECF6\",\"width\":0.5},\"pattern\":{\"fillmode\":\"overlay\",\"size\":10,\"solidity\":0.2}},\"type\":\"bar\"}],\"scattergeo\":[{\"type\":\"scattergeo\",\"marker\":{\"colorbar\":{\"outlinewidth\":0,\"ticks\":\"\"}}}],\"scatterpolar\":[{\"type\":\"scatterpolar\",\"marker\":{\"colorbar\":{\"outlinewidth\":0,\"ticks\":\"\"}}}],\"histogram\":[{\"marker\":{\"pattern\":{\"fillmode\":\"overlay\",\"size\":10,\"solidity\":0.2}},\"type\":\"histogram\"}],\"scattergl\":[{\"type\":\"scattergl\",\"marker\":{\"colorbar\":{\"outlinewidth\":0,\"ticks\":\"\"}}}],\"scatter3d\":[{\"type\":\"scatter3d\",\"line\":{\"colorbar\":{\"outlinewidth\":0,\"ticks\":\"\"}},\"marker\":{\"colorbar\":{\"outlinewidth\":0,\"ticks\":\"\"}}}],\"scattermapbox\":[{\"type\":\"scattermapbox\",\"marker\":{\"colorbar\":{\"outlinewidth\":0,\"ticks\":\"\"}}}],\"scatterternary\":[{\"type\":\"scatterternary\",\"marker\":{\"colorbar\":{\"outlinewidth\":0,\"ticks\":\"\"}}}],\"scattercarpet\":[{\"type\":\"scattercarpet\",\"marker\":{\"colorbar\":{\"outlinewidth\":0,\"ticks\":\"\"}}}],\"carpet\":[{\"aaxis\":{\"endlinecolor\":\"#2a3f5f\",\"gridcolor\":\"white\",\"linecolor\":\"white\",\"minorgridcolor\":\"white\",\"startlinecolor\":\"#2a3f5f\"},\"baxis\":{\"endlinecolor\":\"#2a3f5f\",\"gridcolor\":\"white\",\"linecolor\":\"white\",\"minorgridcolor\":\"white\",\"startlinecolor\":\"#2a3f5f\"},\"type\":\"carpet\"}],\"table\":[{\"cells\":{\"fill\":{\"color\":\"#EBF0F8\"},\"line\":{\"color\":\"white\"}},\"header\":{\"fill\":{\"color\":\"#C8D4E3\"},\"line\":{\"color\":\"white\"}},\"type\":\"table\"}],\"barpolar\":[{\"marker\":{\"line\":{\"color\":\"#E5ECF6\",\"width\":0.5},\"pattern\":{\"fillmode\":\"overlay\",\"size\":10,\"solidity\":0.2}},\"type\":\"barpolar\"}],\"pie\":[{\"automargin\":true,\"type\":\"pie\"}]},\"layout\":{\"autotypenumbers\":\"strict\",\"colorway\":[\"#636efa\",\"#EF553B\",\"#00cc96\",\"#ab63fa\",\"#FFA15A\",\"#19d3f3\",\"#FF6692\",\"#B6E880\",\"#FF97FF\",\"#FECB52\"],\"font\":{\"color\":\"#2a3f5f\"},\"hovermode\":\"closest\",\"hoverlabel\":{\"align\":\"left\"},\"paper_bgcolor\":\"white\",\"plot_bgcolor\":\"#E5ECF6\",\"polar\":{\"bgcolor\":\"#E5ECF6\",\"angularaxis\":{\"gridcolor\":\"white\",\"linecolor\":\"white\",\"ticks\":\"\"},\"radialaxis\":{\"gridcolor\":\"white\",\"linecolor\":\"white\",\"ticks\":\"\"}},\"ternary\":{\"bgcolor\":\"#E5ECF6\",\"aaxis\":{\"gridcolor\":\"white\",\"linecolor\":\"white\",\"ticks\":\"\"},\"baxis\":{\"gridcolor\":\"white\",\"linecolor\":\"white\",\"ticks\":\"\"},\"caxis\":{\"gridcolor\":\"white\",\"linecolor\":\"white\",\"ticks\":\"\"}},\"coloraxis\":{\"colorbar\":{\"outlinewidth\":0,\"ticks\":\"\"}},\"colorscale\":{\"sequential\":[[0.0,\"#0d0887\"],[0.1111111111111111,\"#46039f\"],[0.2222222222222222,\"#7201a8\"],[0.3333333333333333,\"#9c179e\"],[0.4444444444444444,\"#bd3786\"],[0.5555555555555556,\"#d8576b\"],[0.6666666666666666,\"#ed7953\"],[0.7777777777777778,\"#fb9f3a\"],[0.8888888888888888,\"#fdca26\"],[1.0,\"#f0f921\"]],\"sequentialminus\":[[0.0,\"#0d0887\"],[0.1111111111111111,\"#46039f\"],[0.2222222222222222,\"#7201a8\"],[0.3333333333333333,\"#9c179e\"],[0.4444444444444444,\"#bd3786\"],[0.5555555555555556,\"#d8576b\"],[0.6666666666666666,\"#ed7953\"],[0.7777777777777778,\"#fb9f3a\"],[0.8888888888888888,\"#fdca26\"],[1.0,\"#f0f921\"]],\"diverging\":[[0,\"#8e0152\"],[0.1,\"#c51b7d\"],[0.2,\"#de77ae\"],[0.3,\"#f1b6da\"],[0.4,\"#fde0ef\"],[0.5,\"#f7f7f7\"],[0.6,\"#e6f5d0\"],[0.7,\"#b8e186\"],[0.8,\"#7fbc41\"],[0.9,\"#4d9221\"],[1,\"#276419\"]]},\"xaxis\":{\"gridcolor\":\"white\",\"linecolor\":\"white\",\"ticks\":\"\",\"title\":{\"standoff\":15},\"zerolinecolor\":\"white\",\"automargin\":true,\"zerolinewidth\":2},\"yaxis\":{\"gridcolor\":\"white\",\"linecolor\":\"white\",\"ticks\":\"\",\"title\":{\"standoff\":15},\"zerolinecolor\":\"white\",\"automargin\":true,\"zerolinewidth\":2},\"scene\":{\"xaxis\":{\"backgroundcolor\":\"#E5ECF6\",\"gridcolor\":\"white\",\"linecolor\":\"white\",\"showbackground\":true,\"ticks\":\"\",\"zerolinecolor\":\"white\",\"gridwidth\":2},\"yaxis\":{\"backgroundcolor\":\"#E5ECF6\",\"gridcolor\":\"white\",\"linecolor\":\"white\",\"showbackground\":true,\"ticks\":\"\",\"zerolinecolor\":\"white\",\"gridwidth\":2},\"zaxis\":{\"backgroundcolor\":\"#E5ECF6\",\"gridcolor\":\"white\",\"linecolor\":\"white\",\"showbackground\":true,\"ticks\":\"\",\"zerolinecolor\":\"white\",\"gridwidth\":2}},\"shapedefaults\":{\"line\":{\"color\":\"#2a3f5f\"}},\"annotationdefaults\":{\"arrowcolor\":\"#2a3f5f\",\"arrowhead\":0,\"arrowwidth\":1},\"geo\":{\"bgcolor\":\"white\",\"landcolor\":\"#E5ECF6\",\"subunitcolor\":\"white\",\"showland\":true,\"showlakes\":true,\"lakecolor\":\"white\"},\"title\":{\"x\":0.05},\"mapbox\":{\"style\":\"light\"}}},\"title\":{\"text\":\"Bayesian Network Structure\",\"x\":0.5}},                        {\"responsive\": true}                    ).then(function(){\n",
              "                            \n",
              "var gd = document.getElementById('25537d4b-5f11-48e2-9cfd-2438c633b708');\n",
              "var x = new MutationObserver(function (mutations, observer) {{\n",
              "        var display = window.getComputedStyle(gd).display;\n",
              "        if (!display || display === 'none') {{\n",
              "            console.log([gd, 'removed!']);\n",
              "            Plotly.purge(gd);\n",
              "            observer.disconnect();\n",
              "        }}\n",
              "}});\n",
              "\n",
              "// Listen for the removal of the full notebook cells\n",
              "var notebookContainer = gd.closest('#notebook-container');\n",
              "if (notebookContainer) {{\n",
              "    x.observe(notebookContainer, {childList: true});\n",
              "}}\n",
              "\n",
              "// Listen for the clearing of the current output cell\n",
              "var outputEl = gd.closest('.output');\n",
              "if (outputEl) {{\n",
              "    x.observe(outputEl, {childList: true});\n",
              "}}\n",
              "\n",
              "                        })                };                            </script>        </div>\n",
              "</body>\n",
              "</html>"
            ]
          },
          "metadata": {}
        }
      ]
    },
    {
      "cell_type": "markdown",
      "source": [
        "# Neural Network"
      ],
      "metadata": {
        "id": "XbQlx8y8wlg7"
      }
    },
    {
      "cell_type": "markdown",
      "source": [
        "## Neural Network Training"
      ],
      "metadata": {
        "id": "jO-tMmrIwcps"
      }
    },
    {
      "cell_type": "code",
      "source": [
        "# Load the data\n",
        "data = pd.read_csv('bn_data_structure.csv')\n",
        "\n",
        "# Preprocess the data\n",
        "# One-hot encode IR and EI using a separate encoder\n",
        "encoder_X = OneHotEncoder(sparse=False)\n",
        "X = encoder_X.fit_transform(data[['IR', 'EI']])\n",
        "\n",
        "# One-hot encode SP with a specific order of categories\n",
        "encoder_y = OneHotEncoder(sparse=False, categories=[['decrease', 'stable', 'increase']])\n",
        "y = encoder_y.fit_transform(data[['SP']])\n",
        "\n",
        "# Build and train the neural network\n",
        "model = tf.keras.Sequential([\n",
        "    tf.keras.layers.Dense(10, input_dim=X.shape[1], activation='relu'), # 30 nodes in hidden layer\n",
        "    #tf.keras.layers.Dense(25, input_dim=X.shape[1], activation='relu'),  # More neurons, additional layer\n",
        "    #tf.keras.layers.Dense(40, activation='relu'),  # Additional layer, more neurons\n",
        "    #tf.keras.layers.Dense(15, input_dim=X.shape[1], activation='relu'),  # More neurons, additional layer\n",
        "    #tf.keras.layers.Dense(10, activation='relu'),  # Additional layer, more neurons\n",
        "    tf.keras.layers.Dense(y.shape[1], activation='softmax')\n",
        "])\n",
        "model.compile(optimizer='adam', loss='categorical_crossentropy', metrics=['accuracy'])\n",
        "#model.fit(X, y, epochs=50, batch_size=16, verbose=1)  # Train with 50 epochs\n",
        "#model.fit(X, y, epochs=100, batch_size=16, verbose=1)  # Train with 100 epochs\n",
        "model.fit(X, y, epochs=20, batch_size=10, verbose=1)  # Train with 50 epochs\n",
        "\n",
        "# Get predicted probabilities from the NN\n",
        "y_pred_probs = model.predict(X)\n",
        "\n",
        "# Convert probabilities to predicted SP categories\n",
        "y_pred = np.argmax(y_pred_probs, axis=1)\n",
        "\n",
        "# Use numpy to map the indices to the actual category labels\n",
        "predicted_sp = np.array(encoder_y.categories_[0])[y_pred]\n",
        "\n",
        "# Get the final probability for the predicted SP\n",
        "predicted_sp_probs = [y_pred_probs[i, idx] for i, idx in enumerate(y_pred)]\n",
        "\n",
        "# Prepare the output DataFrame\n",
        "output_df = pd.DataFrame({\n",
        "    'IR': data['IR'],\n",
        "    'EI': data['EI'],\n",
        "    'Actual SP': data['SP'],\n",
        "    'Predicted SP': predicted_sp,\n",
        "    'Predicted SP Probability': predicted_sp_probs\n",
        "})\n",
        "\n",
        "# Display the first 10 rows of the output\n",
        "print(output_df.head(10))\n",
        "\n",
        "# Optionally save the output to a CSV file\n",
        "output_df.to_csv('nn_output_with_probabilities.csv', index=False)\n",
        "\n",
        "# Display the full range of predicted probabilities as a separate output\n",
        "print(\"\\nFull Range of Predicted SP Probabilities:\")\n",
        "for i in range(10):  # Display the first 10 rows for brevity\n",
        "    print(f\"Sample {i+1} - IR: {data['IR'].iloc[i]}, EI: {data['EI'].iloc[i]}\")\n",
        "    print(f\"Predicted SP Probabilities: {y_pred_probs[i]}\")\n",
        "    print(f\"Actual SP: {data['SP'].iloc[i]}, Predicted SP: {predicted_sp[i]}\")\n",
        "    print(\"------\")"
      ],
      "metadata": {
        "id": "-1jtup6HJnO1",
        "outputId": "d03d0315-7fc8-49ce-bcd2-76ec52b97912",
        "colab": {
          "base_uri": "https://localhost:8080/"
        }
      },
      "execution_count": 8,
      "outputs": [
        {
          "output_type": "stream",
          "name": "stderr",
          "text": [
            "/usr/local/lib/python3.10/dist-packages/sklearn/preprocessing/_encoders.py:975: FutureWarning:\n",
            "\n",
            "`sparse` was renamed to `sparse_output` in version 1.2 and will be removed in 1.4. `sparse_output` is ignored unless you leave `sparse` to its default value.\n",
            "\n",
            "/usr/local/lib/python3.10/dist-packages/sklearn/preprocessing/_encoders.py:975: FutureWarning:\n",
            "\n",
            "`sparse` was renamed to `sparse_output` in version 1.2 and will be removed in 1.4. `sparse_output` is ignored unless you leave `sparse` to its default value.\n",
            "\n",
            "/usr/local/lib/python3.10/dist-packages/keras/src/layers/core/dense.py:87: UserWarning:\n",
            "\n",
            "Do not pass an `input_shape`/`input_dim` argument to a layer. When using Sequential models, prefer using an `Input(shape)` object as the first layer in the model instead.\n",
            "\n"
          ]
        },
        {
          "output_type": "stream",
          "name": "stdout",
          "text": [
            "Epoch 1/20\n",
            "\u001b[1m5/5\u001b[0m \u001b[32m━━━━━━━━━━━━━━━━━━━━\u001b[0m\u001b[37m\u001b[0m \u001b[1m5s\u001b[0m 57ms/step - accuracy: 0.2294 - loss: 1.1372\n",
            "Epoch 2/20\n",
            "\u001b[1m5/5\u001b[0m \u001b[32m━━━━━━━━━━━━━━━━━━━━\u001b[0m\u001b[37m\u001b[0m \u001b[1m1s\u001b[0m 24ms/step - accuracy: 0.2581 - loss: 1.1513\n",
            "Epoch 3/20\n",
            "\u001b[1m5/5\u001b[0m \u001b[32m━━━━━━━━━━━━━━━━━━━━\u001b[0m\u001b[37m\u001b[0m \u001b[1m0s\u001b[0m 11ms/step - accuracy: 0.2858 - loss: 1.1377\n",
            "Epoch 4/20\n",
            "\u001b[1m5/5\u001b[0m \u001b[32m━━━━━━━━━━━━━━━━━━━━\u001b[0m\u001b[37m\u001b[0m \u001b[1m0s\u001b[0m 25ms/step - accuracy: 0.3706 - loss: 1.0985\n",
            "Epoch 5/20\n",
            "\u001b[1m5/5\u001b[0m \u001b[32m━━━━━━━━━━━━━━━━━━━━\u001b[0m\u001b[37m\u001b[0m \u001b[1m0s\u001b[0m 10ms/step - accuracy: 0.2831 - loss: 1.1238 \n",
            "Epoch 6/20\n",
            "\u001b[1m5/5\u001b[0m \u001b[32m━━━━━━━━━━━━━━━━━━━━\u001b[0m\u001b[37m\u001b[0m \u001b[1m0s\u001b[0m 6ms/step - accuracy: 0.3608 - loss: 1.1067 \n",
            "Epoch 7/20\n",
            "\u001b[1m5/5\u001b[0m \u001b[32m━━━━━━━━━━━━━━━━━━━━\u001b[0m\u001b[37m\u001b[0m \u001b[1m0s\u001b[0m 23ms/step - accuracy: 0.3303 - loss: 1.0980\n",
            "Epoch 8/20\n",
            "\u001b[1m5/5\u001b[0m \u001b[32m━━━━━━━━━━━━━━━━━━━━\u001b[0m\u001b[37m\u001b[0m \u001b[1m0s\u001b[0m 5ms/step - accuracy: 0.2664 - loss: 1.1338  \n",
            "Epoch 9/20\n",
            "\u001b[1m5/5\u001b[0m \u001b[32m━━━━━━━━━━━━━━━━━━━━\u001b[0m\u001b[37m\u001b[0m \u001b[1m0s\u001b[0m 10ms/step - accuracy: 0.3150 - loss: 1.1127\n",
            "Epoch 10/20\n",
            "\u001b[1m5/5\u001b[0m \u001b[32m━━━━━━━━━━━━━━━━━━━━\u001b[0m\u001b[37m\u001b[0m \u001b[1m0s\u001b[0m 8ms/step - accuracy: 0.2636 - loss: 1.1133  \n",
            "Epoch 11/20\n",
            "\u001b[1m5/5\u001b[0m \u001b[32m━━━━━━━━━━━━━━━━━━━━\u001b[0m\u001b[37m\u001b[0m \u001b[1m0s\u001b[0m 12ms/step - accuracy: 0.3094 - loss: 1.1094\n",
            "Epoch 12/20\n",
            "\u001b[1m5/5\u001b[0m \u001b[32m━━━━━━━━━━━━━━━━━━━━\u001b[0m\u001b[37m\u001b[0m \u001b[1m0s\u001b[0m 8ms/step - accuracy: 0.2872 - loss: 1.1067  \n",
            "Epoch 13/20\n",
            "\u001b[1m5/5\u001b[0m \u001b[32m━━━━━━━━━━━━━━━━━━━━\u001b[0m\u001b[37m\u001b[0m \u001b[1m0s\u001b[0m 19ms/step - accuracy: 0.2928 - loss: 1.1200\n",
            "Epoch 14/20\n",
            "\u001b[1m5/5\u001b[0m \u001b[32m━━━━━━━━━━━━━━━━━━━━\u001b[0m\u001b[37m\u001b[0m \u001b[1m0s\u001b[0m 7ms/step - accuracy: 0.3594 - loss: 1.0891 \n",
            "Epoch 15/20\n",
            "\u001b[1m5/5\u001b[0m \u001b[32m━━━━━━━━━━━━━━━━━━━━\u001b[0m\u001b[37m\u001b[0m \u001b[1m0s\u001b[0m 6ms/step - accuracy: 0.2997 - loss: 1.0958  \n",
            "Epoch 16/20\n",
            "\u001b[1m5/5\u001b[0m \u001b[32m━━━━━━━━━━━━━━━━━━━━\u001b[0m\u001b[37m\u001b[0m \u001b[1m0s\u001b[0m 12ms/step - accuracy: 0.3067 - loss: 1.1082\n",
            "Epoch 17/20\n",
            "\u001b[1m5/5\u001b[0m \u001b[32m━━━━━━━━━━━━━━━━━━━━\u001b[0m\u001b[37m\u001b[0m \u001b[1m0s\u001b[0m 6ms/step - accuracy: 0.3233 - loss: 1.0886  \n",
            "Epoch 18/20\n",
            "\u001b[1m5/5\u001b[0m \u001b[32m━━━━━━━━━━━━━━━━━━━━\u001b[0m\u001b[37m\u001b[0m \u001b[1m0s\u001b[0m 13ms/step - accuracy: 0.3656 - loss: 1.0969 \n",
            "Epoch 19/20\n",
            "\u001b[1m5/5\u001b[0m \u001b[32m━━━━━━━━━━━━━━━━━━━━\u001b[0m\u001b[37m\u001b[0m \u001b[1m0s\u001b[0m 7ms/step - accuracy: 0.3889 - loss: 1.0881  \n",
            "Epoch 20/20\n",
            "\u001b[1m5/5\u001b[0m \u001b[32m━━━━━━━━━━━━━━━━━━━━\u001b[0m\u001b[37m\u001b[0m \u001b[1m0s\u001b[0m 9ms/step - accuracy: 0.4250 - loss: 1.0934  \n",
            "\u001b[1m2/2\u001b[0m \u001b[32m━━━━━━━━━━━━━━━━━━━━\u001b[0m\u001b[37m\u001b[0m \u001b[1m0s\u001b[0m 128ms/step\n",
            "       IR       EI Actual SP Predicted SP  Predicted SP Probability\n",
            "0    high     poor  increase     decrease                  0.379616\n",
            "1    high     good    stable     increase                  0.357223\n",
            "2    high  average  increase     increase                  0.419964\n",
            "3     low  average  increase       stable                  0.361455\n",
            "4     low  average  decrease       stable                  0.361455\n",
            "5     low     poor    stable     decrease                  0.401557\n",
            "6     low     good  decrease     decrease                  0.371361\n",
            "7     low  average  decrease       stable                  0.361455\n",
            "8    high  average  increase     increase                  0.419964\n",
            "9  medium     poor    stable     decrease                  0.357195\n",
            "\n",
            "Full Range of Predicted SP Probabilities:\n",
            "Sample 1 - IR: high, EI: poor\n",
            "Predicted SP Probabilities: [0.37961623 0.28583926 0.33454442]\n",
            "Actual SP: increase, Predicted SP: decrease\n",
            "------\n",
            "Sample 2 - IR: high, EI: good\n",
            "Predicted SP Probabilities: [0.34973454 0.29304302 0.35722256]\n",
            "Actual SP: stable, Predicted SP: increase\n",
            "------\n",
            "Sample 3 - IR: high, EI: average\n",
            "Predicted SP Probabilities: [0.28479198 0.29524443 0.41996357]\n",
            "Actual SP: increase, Predicted SP: increase\n",
            "------\n",
            "Sample 4 - IR: low, EI: average\n",
            "Predicted SP Probabilities: [0.33513656 0.36145502 0.30340835]\n",
            "Actual SP: increase, Predicted SP: stable\n",
            "------\n",
            "Sample 5 - IR: low, EI: average\n",
            "Predicted SP Probabilities: [0.33513656 0.36145502 0.30340835]\n",
            "Actual SP: decrease, Predicted SP: stable\n",
            "------\n",
            "Sample 6 - IR: low, EI: poor\n",
            "Predicted SP Probabilities: [0.40155733 0.2859022  0.3125405 ]\n",
            "Actual SP: stable, Predicted SP: decrease\n",
            "------\n",
            "Sample 7 - IR: low, EI: good\n",
            "Predicted SP Probabilities: [0.37136054 0.31601796 0.31262156]\n",
            "Actual SP: decrease, Predicted SP: decrease\n",
            "------\n",
            "Sample 8 - IR: low, EI: average\n",
            "Predicted SP Probabilities: [0.33513656 0.36145502 0.30340835]\n",
            "Actual SP: decrease, Predicted SP: stable\n",
            "------\n",
            "Sample 9 - IR: high, EI: average\n",
            "Predicted SP Probabilities: [0.28479198 0.29524443 0.41996357]\n",
            "Actual SP: increase, Predicted SP: increase\n",
            "------\n",
            "Sample 10 - IR: medium, EI: poor\n",
            "Predicted SP Probabilities: [0.3571955  0.29320318 0.3496013 ]\n",
            "Actual SP: stable, Predicted SP: decrease\n",
            "------\n"
          ]
        }
      ]
    },
    {
      "cell_type": "markdown",
      "source": [
        "## NN and BN (Ground Truth) MSE"
      ],
      "metadata": {
        "id": "RBaAwNqIwhQx"
      }
    },
    {
      "cell_type": "code",
      "source": [
        "# Load the test data with BN probabilities\n",
        "bn_test_data = pd.read_csv('bn_test_data_for_NN.csv')\n",
        "\n",
        "# Load the NN output data with NN probabilities\n",
        "nn_output_data = pd.read_csv('nn_output_with_probabilities.csv')\n",
        "\n",
        "# Ensure the data is aligned by checking for matching IR, EI, and SP\n",
        "assert np.all(bn_test_data['IR'] == nn_output_data['IR'])\n",
        "assert np.all(bn_test_data['EI'] == nn_output_data['EI'])\n",
        "assert np.all(bn_test_data['SP'] == nn_output_data['Actual SP'])\n",
        "\n",
        "# Calculate the squared differences between BN and NN probabilities\n",
        "bn_prob = bn_test_data['SP_Probability']\n",
        "nn_prob = nn_output_data['Predicted SP Probability']\n",
        "squared_diffs = (bn_prob - nn_prob) ** 2\n",
        "\n",
        "# Combine the relevant columns into a DataFrame for display\n",
        "comparison_df = pd.DataFrame({\n",
        "    'BN Probability': bn_prob,\n",
        "    'NN Probability': round(nn_prob,3),\n",
        "    'Squared Difference': round(squared_diffs,3)\n",
        "})\n",
        "\n",
        "# Display the first few rows to see the comparison\n",
        "print(\"Comparison of BN and NN probabilities (first few rows):\")\n",
        "print(comparison_df.head(10))\n",
        "\n",
        "# Calculate the Mean Squared Error (MSE)\n",
        "mse = squared_diffs.mean()\n",
        "\n",
        "# Display the MSE value\n",
        "print(f\"\\nMean Squared Error (MSE) between BN and NN probabilities: {round(mse,3)}\")"
      ],
      "metadata": {
        "id": "ZLOckdnSwb2Z",
        "colab": {
          "base_uri": "https://localhost:8080/"
        },
        "outputId": "cadbc5ce-720f-4de4-a11e-9018b1be8a06"
      },
      "execution_count": 9,
      "outputs": [
        {
          "output_type": "stream",
          "name": "stdout",
          "text": [
            "Comparison of BN and NN probabilities (first few rows):\n",
            "   BN Probability  NN Probability  Squared Difference\n",
            "0            0.51           0.380               0.017\n",
            "1            0.74           0.357               0.147\n",
            "2            0.60           0.420               0.032\n",
            "3            0.59           0.361               0.052\n",
            "4            0.52           0.361               0.025\n",
            "5            0.62           0.402               0.048\n",
            "6            0.77           0.371               0.159\n",
            "7            0.42           0.361               0.003\n",
            "8            0.82           0.420               0.160\n",
            "9            0.68           0.357               0.104\n",
            "\n",
            "Mean Squared Error (MSE) between BN and NN probabilities: 0.06\n"
          ]
        }
      ]
    },
    {
      "cell_type": "markdown",
      "source": [
        "# Learned BN"
      ],
      "metadata": {
        "id": "_-DNaPBR3qhY"
      }
    },
    {
      "cell_type": "code",
      "source": [
        "import pandas as pd\n",
        "\n",
        "# Load the NN output data\n",
        "nn_output_data = pd.read_csv('nn_output_with_probabilities.csv')\n",
        "\n",
        "# Load the ground truth BN probabilities\n",
        "bn_test_data = pd.read_csv('bn_test_data_for_NN.csv')\n",
        "\n",
        "# Display the first few rows of each dataset to ensure they are loaded correctly\n",
        "print(\"NN Output Data:\")\n",
        "print(nn_output_data.head())\n",
        "\n",
        "print(\"\\nGround Truth BN Data:\")\n",
        "print(bn_test_data.head())"
      ],
      "metadata": {
        "colab": {
          "base_uri": "https://localhost:8080/"
        },
        "id": "vgct9WoN7z2J",
        "outputId": "829e07df-88cd-44d8-e50e-ecf8a73eaf61"
      },
      "execution_count": 10,
      "outputs": [
        {
          "output_type": "stream",
          "name": "stdout",
          "text": [
            "NN Output Data:\n",
            "     IR       EI Actual SP Predicted SP  Predicted SP Probability\n",
            "0  high     poor  increase     decrease                  0.379616\n",
            "1  high     good    stable     increase                  0.357223\n",
            "2  high  average  increase     increase                  0.419964\n",
            "3   low  average  increase       stable                  0.361455\n",
            "4   low  average  decrease       stable                  0.361455\n",
            "\n",
            "Ground Truth BN Data:\n",
            "     IR       EI        SP  SP_Probability\n",
            "0  high     poor  increase            0.51\n",
            "1  high     good    stable            0.74\n",
            "2  high  average  increase            0.60\n",
            "3   low  average  increase            0.59\n",
            "4   low  average  decrease            0.52\n"
          ]
        }
      ]
    },
    {
      "cell_type": "code",
      "source": [
        "# Load the NN output data\n",
        "nn_output_data = pd.read_csv('nn_output_with_probabilities.csv')\n",
        "\n",
        "# Extract the relevant columns: IR, EI, and NN Predicted SP\n",
        "bayesian_learning_data = nn_output_data[['IR', 'EI', 'Predicted SP']]\n",
        "\n",
        "# Rename 'Predicted SP' to 'SP' to match the target variable name\n",
        "bayesian_learning_data.rename(columns={'Predicted SP': 'SP'}, inplace=True)\n",
        "\n",
        "# Display the extracted data\n",
        "print(\"Extracted Data for Bayesian Network Learning (predictions from NN):\")\n",
        "print(bayesian_learning_data.head())\n",
        "\n",
        "# Save the extracted data to a CSV file\n",
        "bayesian_learning_data.to_csv('bayesian_learning_data_from_nn.csv', index=False)\n",
        "\n",
        "print(\"\\nData saved successfully to 'bayesian_learning_data_from_nn.csv'\")"
      ],
      "metadata": {
        "colab": {
          "base_uri": "https://localhost:8080/"
        },
        "id": "7J2J4eM99-9E",
        "outputId": "bbfc7838-5e46-4b4c-b1bc-24c00e38a94c"
      },
      "execution_count": 22,
      "outputs": [
        {
          "output_type": "stream",
          "name": "stdout",
          "text": [
            "Extracted Data for Bayesian Network Learning (predictions from NN):\n",
            "     IR       EI        SP\n",
            "0  high     poor  decrease\n",
            "1  high     good  increase\n",
            "2  high  average  increase\n",
            "3   low  average    stable\n",
            "4   low  average    stable\n",
            "\n",
            "Data saved successfully to 'bayesian_learning_data_from_nn.csv'\n"
          ]
        },
        {
          "output_type": "stream",
          "name": "stderr",
          "text": [
            "<ipython-input-22-2d38d0f2942e>:8: SettingWithCopyWarning:\n",
            "\n",
            "\n",
            "A value is trying to be set on a copy of a slice from a DataFrame\n",
            "\n",
            "See the caveats in the documentation: https://pandas.pydata.org/pandas-docs/stable/user_guide/indexing.html#returning-a-view-versus-a-copy\n",
            "\n"
          ]
        }
      ]
    },
    {
      "cell_type": "code",
      "source": [
        "# Learn the BN structure using Hill Climb Search and BIC\n",
        "hc = HillClimbSearch(bayesian_learning_data)\n",
        "learned_model = hc.estimate(scoring_method=BicScore(bayesian_learning_data))\n",
        "\n",
        "# Display the learned structure (edges)\n",
        "print(\"Learned BN Structure:\")\n",
        "print(learned_model.edges())"
      ],
      "metadata": {
        "id": "2vtJhR2A2SNA",
        "outputId": "bbc21707-982e-474e-8876-a9698876fccf",
        "colab": {
          "base_uri": "https://localhost:8080/",
          "height": 84,
          "referenced_widgets": [
            "d0263a3a01104c8d9a1255045d90bdfe",
            "658c77e05e2f424baecdb035a6bb29bf",
            "e1e3fd1b6642437d954775a65d59bb4a",
            "f9c160ded7ce480285e0572b4cce56ea",
            "dfbb3157c85b4b48ad7bcc8f8ecf44df",
            "1c522bd43dbc465292befa69d7778192",
            "bbd498c48dd74a909be4feb34e28e3cf",
            "06fa36e51730429082c633c1b98f9f10",
            "1cdb82613a4544969f1e9c159921a3a9",
            "03e3ba9e4c194a75acd9960f77d42fb1",
            "fd2af2c7bdd8454ba701e8928533cf35"
          ]
        }
      },
      "execution_count": 23,
      "outputs": [
        {
          "output_type": "display_data",
          "data": {
            "text/plain": [
              "  0%|          | 0/1000000 [00:00<?, ?it/s]"
            ],
            "application/vnd.jupyter.widget-view+json": {
              "version_major": 2,
              "version_minor": 0,
              "model_id": "d0263a3a01104c8d9a1255045d90bdfe"
            }
          },
          "metadata": {}
        },
        {
          "output_type": "stream",
          "name": "stdout",
          "text": [
            "Learned BN Structure:\n",
            "[('EI', 'SP'), ('SP', 'IR')]\n"
          ]
        }
      ]
    },
    {
      "cell_type": "code",
      "source": [
        "# Create a directed graph from the learned BN structure\n",
        "G = nx.DiGraph()\n",
        "\n",
        "# Add edges to the graph\n",
        "G.add_edges_from(learned_model.edges())\n",
        "\n",
        "# Draw the graph using Matplotlib\n",
        "plt.figure(figsize=(12, 9))  # Increase figure size for better readability\n",
        "pos = nx.spring_layout(G)  # Positioning the nodes\n",
        "\n",
        "# Draw nodes, edges, and labels\n",
        "nx.draw_networkx_nodes(G, pos, node_color='purple', node_size=3000)\n",
        "nx.draw_networkx_edges(G, pos, edge_color='gray')\n",
        "nx.draw_networkx_labels(G, pos, font_size=12, font_color='black', font_weight='bold', verticalalignment='center', horizontalalignment='right')\n",
        "\n",
        "# Show the plot\n",
        "plt.title(\"Learned Bayesian Network Structure\")\n",
        "plt.show()"
      ],
      "metadata": {
        "id": "kn5cggZH2V33",
        "outputId": "21eb02a2-9cc3-4446-bc64-8792c6c71b6e",
        "colab": {
          "base_uri": "https://localhost:8080/",
          "height": 726
        }
      },
      "execution_count": 24,
      "outputs": [
        {
          "output_type": "display_data",
          "data": {
            "text/plain": [
              "<Figure size 1200x900 with 1 Axes>"
            ],
            "image/png": "[encoded data removed]"
          },
          "metadata": {}
        }
      ]
    },
    {
      "cell_type": "code",
      "source": [
        "# Fit the BN parameters using Maximum Likelihood Estimation\n",
        "learned_bn = BayesianNetwork(learned_model.edges())\n",
        "learned_bn.fit(bayesian_learning_data, estimator=MaximumLikelihoodEstimator)\n",
        "\n",
        "print(\"BN parameters have been fitted.\")"
      ],
      "metadata": {
        "id": "rcovpzJh21xn",
        "outputId": "898199c3-e6ce-4ff5-963d-e18f37d4a2b8",
        "colab": {
          "base_uri": "https://localhost:8080/"
        }
      },
      "execution_count": 26,
      "outputs": [
        {
          "output_type": "stream",
          "name": "stdout",
          "text": [
            "BN parameters have been fitted.\n"
          ]
        }
      ]
    },
    {
      "cell_type": "code",
      "source": [
        "# Initialize the inference object\n",
        "infer = VariableElimination(learned_bn)\n",
        "\n",
        "# Function to get the probability distribution for SP\n",
        "def get_sp_probability(row):\n",
        "    query_result = infer.query(variables=['SP'], evidence={'IR': row['IR'], 'EI': row['EI']})\n",
        "    return query_result.values\n",
        "\n",
        "# Apply the function to get the probabilities for each row\n",
        "bayesian_learning_data['Learned_BN_Probabilities'] = bayesian_learning_data.apply(get_sp_probability, axis=1)\n",
        "\n",
        "# Get the predicted SP by taking the argmax of the probabilities\n",
        "bayesian_learning_data['Learned_BN_Predicted_SP'] = bayesian_learning_data['Learned_BN_Probabilities'].apply(\n",
        "    lambda probs: ['decrease', 'stable', 'increase'][np.argmax(probs)]\n",
        ")\n",
        "\n",
        "# Extract the correct final probability corresponding to the predicted SP\n",
        "bayesian_learning_data['Learned_BN_SP_Probability'] = bayesian_learning_data.apply(\n",
        "    lambda row: row['Learned_BN_Probabilities'][['decrease', 'stable', 'increase'].index(row['Learned_BN_Predicted_SP'])],\n",
        "    axis=1\n",
        ")\n",
        "\n",
        "# Round the probabilities in the Learned_BN_Probabilities column to 2 decimal places\n",
        "bayesian_learning_data['Learned_BN_Probabilities'] = bayesian_learning_data['Learned_BN_Probabilities'].apply(\n",
        "    lambda probs: [round(prob, 2) for prob in probs]\n",
        ")\n",
        "\n",
        "# Round the final predicted SP probability as well\n",
        "bayesian_learning_data['Learned_BN_SP_Probability'] = bayesian_learning_data['Learned_BN_SP_Probability'].round(2)\n",
        "\n",
        "# Display the updated data with the learned probabilities\n",
        "print(\"Updated Data with Corrected and Rounded Learned BN Probabilities:\")\n",
        "print(bayesian_learning_data.head())"
      ],
      "metadata": {
        "id": "P3g5y39p6dBk",
        "outputId": "5452aadf-c5dd-4828-d6c2-be32862eab91",
        "colab": {
          "base_uri": "https://localhost:8080/"
        }
      },
      "execution_count": 36,
      "outputs": [
        {
          "output_type": "stream",
          "name": "stdout",
          "text": [
            "Updated Data with Corrected and Rounded Learned BN Probabilities:\n",
            "     IR       EI        SP Learned_BN_Probabilities Learned_BN_Predicted_SP  \\\n",
            "0  high     poor  decrease          [1.0, 0.0, 0.0]                decrease   \n",
            "1  high     good  increase        [0.19, 0.81, 0.0]                  stable   \n",
            "2  high  average  increase          [0.0, 1.0, 0.0]                  stable   \n",
            "3   low  average    stable          [0.0, 0.0, 1.0]                increase   \n",
            "4   low  average    stable          [0.0, 0.0, 1.0]                increase   \n",
            "\n",
            "   Learned_BN_SP_Probability  \n",
            "0                       1.00  \n",
            "1                       0.81  \n",
            "2                       1.00  \n",
            "3                       1.00  \n",
            "4                       1.00  \n"
          ]
        }
      ]
    },
    {
      "cell_type": "code",
      "source": [
        "# Load the ground truth probabilities from the original BN\n",
        "ground_truth_data = pd.read_csv('bn_test_data_for_NN.csv')\n",
        "\n",
        "# Display the ground truth data to confirm\n",
        "print(\"Ground Truth BN Data:\")\n",
        "print(ground_truth_data.head())"
      ],
      "metadata": {
        "id": "4VklHd193Fv5",
        "outputId": "5cc1c1fa-1c42-481d-992e-9e6c8203149f",
        "colab": {
          "base_uri": "https://localhost:8080/"
        }
      },
      "execution_count": 37,
      "outputs": [
        {
          "output_type": "stream",
          "name": "stdout",
          "text": [
            "Ground Truth BN Data:\n",
            "     IR       EI        SP  SP_Probability\n",
            "0  high     poor  increase            0.51\n",
            "1  high     good    stable            0.74\n",
            "2  high  average  increase            0.60\n",
            "3   low  average  increase            0.59\n",
            "4   low  average  decrease            0.52\n"
          ]
        }
      ]
    },
    {
      "cell_type": "code",
      "source": [
        "# Load the ground truth probabilities from the original BN file\n",
        "ground_truth_data = pd.read_csv('bn_test_data_for_NN.csv')\n",
        "\n",
        "# Load the learned BN data that contains the learned probabilities\n",
        "learned_bn_data = bayesian_learning_data  # Assuming bayesian_learning_data is already available\n",
        "\n",
        "# Extract the original BN SP probabilities\n",
        "original_sp_probabilities = ground_truth_data['SP_Probability']\n",
        "\n",
        "# Extract the learned BN SP probabilities\n",
        "learned_sp_probabilities = learned_bn_data['Learned_BN_SP_Probability']\n",
        "\n",
        "# Create a new DataFrame to compare the original and learned probabilities\n",
        "comparison_df = pd.DataFrame({\n",
        "    'Original BN SP Probability': original_sp_probabilities,\n",
        "    'Learned BN SP Probability': learned_sp_probabilities\n",
        "})\n",
        "\n",
        "# Display the comparison\n",
        "print(\"Comparison of Original and Learned BN SP Probabilities:\")\n",
        "print(comparison_df.head(10))\n",
        "\n",
        "# Save the comparison to a CSV file\n",
        "comparison_df.to_csv('sp_probabilities_comparison.csv', index=False)\n",
        "print(\"Comparison saved to 'sp_probabilities_comparison.csv'\")"
      ],
      "metadata": {
        "id": "p6Snza2j9KXD",
        "outputId": "56c1cd7f-10be-42e0-d766-9fdc848407d8",
        "colab": {
          "base_uri": "https://localhost:8080/"
        }
      },
      "execution_count": 41,
      "outputs": [
        {
          "output_type": "stream",
          "name": "stdout",
          "text": [
            "Comparison of Original and Learned BN SP Probabilities:\n",
            "   Original BN SP Probability  Learned BN SP Probability\n",
            "0                        0.51                       1.00\n",
            "1                        0.74                       0.81\n",
            "2                        0.60                       1.00\n",
            "3                        0.59                       1.00\n",
            "4                        0.52                       1.00\n",
            "5                        0.62                       1.00\n",
            "6                        0.77                       0.52\n",
            "7                        0.42                       1.00\n",
            "8                        0.82                       1.00\n",
            "9                        0.68                       1.00\n",
            "Comparison saved to 'sp_probabilities_comparison.csv'\n"
          ]
        }
      ]
    },
    {
      "cell_type": "code",
      "source": [
        "# Load the comparison file that contains both original and learned BN SP probabilities\n",
        "comparison_df = pd.read_csv('sp_probabilities_comparison.csv')\n",
        "\n",
        "# Calculate the squared differences between the original BN and learned BN probabilities\n",
        "comparison_df['Squared Difference'] = (comparison_df['Original BN SP Probability'] - comparison_df['Learned BN SP Probability']) ** 2\n",
        "\n",
        "# Display the first few rows to see the comparison with squared differences\n",
        "print(\"Comparison of Original BN and Learned BN probabilities (first few rows):\")\n",
        "print(comparison_df[['Original BN SP Probability', 'Learned BN SP Probability', 'Squared Difference']].head(10))\n",
        "\n",
        "# Calculate the Mean Squared Error (MSE)\n",
        "mse_learned_vs_original_bn = comparison_df['Squared Difference'].mean()\n",
        "\n",
        "# Display the MSE value\n",
        "print(f\"\\nMean Squared Error (MSE) between Ground Truth BN and Learned BN probabilities: {round(mse_learned_vs_original_bn, 3)}\")"
      ],
      "metadata": {
        "id": "DY5wl8rP96vl",
        "outputId": "6add8208-ca4d-48aa-eb8a-76783094b548",
        "colab": {
          "base_uri": "https://localhost:8080/"
        }
      },
      "execution_count": 42,
      "outputs": [
        {
          "output_type": "stream",
          "name": "stdout",
          "text": [
            "Comparison of Original BN and Learned BN probabilities (first few rows):\n",
            "   Original BN SP Probability  Learned BN SP Probability  Squared Difference\n",
            "0                        0.51                       1.00              0.2401\n",
            "1                        0.74                       0.81              0.0049\n",
            "2                        0.60                       1.00              0.1600\n",
            "3                        0.59                       1.00              0.1681\n",
            "4                        0.52                       1.00              0.2304\n",
            "5                        0.62                       1.00              0.1444\n",
            "6                        0.77                       0.52              0.0625\n",
            "7                        0.42                       1.00              0.3364\n",
            "8                        0.82                       1.00              0.0324\n",
            "9                        0.68                       1.00              0.1024\n",
            "\n",
            "Mean Squared Error (MSE) between Ground Truth BN and Learned BN probabilities: 0.146\n"
          ]
        }
      ]
    }
  ]
}