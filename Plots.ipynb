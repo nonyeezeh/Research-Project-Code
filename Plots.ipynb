{
  "nbformat": 4,
  "nbformat_minor": 0,
  "metadata": {
    "colab": {
      "provenance": [],
      "authorship_tag": "ABX9TyPi35xojwb4isnbzUM8+lvs",
      "include_colab_link": true
    },
    "kernelspec": {
      "name": "python3",
      "display_name": "Python 3"
    },
    "language_info": {
      "name": "python"
    }
  },
  "cells": [
    {
      "cell_type": "markdown",
      "metadata": {
        "id": "view-in-github",
        "colab_type": "text"
      },
      "source": [
        "<a href=\"https://colab.research.google.com/github/nonyeezeh/Research-Project-Code/blob/main/Plots.ipynb\" target=\"_parent\"><img src=\"https://colab.research.google.com/assets/colab-badge.svg\" alt=\"Open In Colab\"/></a>"
      ]
    },
    {
      "cell_type": "markdown",
      "source": [
        "# Comparisons and plotting"
      ],
      "metadata": {
        "id": "EPaWfzo59nJ7"
      }
    },
    {
      "cell_type": "code",
      "source": [
        "# Define the list of files to combine\n",
        "file_names = [\n",
        "    '',\n",
        "    '',\n",
        "    '',\n",
        "    '',\n",
        "    '',\n",
        "    '',\n",
        "    '',\n",
        "    '',\n",
        "]\n",
        "\n",
        "# Initialize an empty DataFrame to store all data\n",
        "combined_df = pd.DataFrame()\n",
        "\n",
        "# Loop through each file and extract the data\n",
        "for file_name in file_names:\n",
        "    # Read the current file\n",
        "    df = pd.read_csv(file_name)\n",
        "\n",
        "    # Extract the column with entropy values\n",
        "    entropy_column_name = df.columns[1]  # Second column name contains entropy data\n",
        "    entropy_data = df[[df.columns[0], entropy_column_name]]  # Select Size and entropy column\n",
        "\n",
        "    # If combined_df is empty, initialize it with Size column\n",
        "    if combined_df.empty:\n",
        "        combined_df = entropy_data\n",
        "    else:\n",
        "        # Merge on Size column to combine all data into a single DataFrame\n",
        "        combined_df = pd.merge(combined_df, entropy_data, on='Size')\n",
        "\n",
        "# Save the combined DataFrame to a new CSV file\n",
        "combined_df.to_csv('combined_kl_divergence.csv', index=False)\n",
        "\n",
        "print(\"Data saved to combined_kl_divergence.csv\")"
      ],
      "metadata": {
        "id": "lp8XDxXS9qpB"
      },
      "execution_count": null,
      "outputs": []
    },
    {
      "cell_type": "code",
      "source": [
        "# Load the combined K-L divergence data\n",
        "combined_df = pd.read_csv('combined_kl_divergence.csv')\n",
        "\n",
        "# Plot each column except the 'Size' column\n",
        "plt.figure(figsize=(10, 6))\n",
        "\n",
        "for column in combined_df.columns[1:]:\n",
        "    plt.plot(combined_df['Size'], combined_df[column], marker='o', label=column)\n",
        "\n",
        "# Add labels and title\n",
        "plt.xlabel('Sample Size')\n",
        "plt.ylabel('K-L Divergence')\n",
        "plt.title('K-L Divergence for Different Models and Sample Sizes')\n",
        "plt.legend()\n",
        "plt.grid(True)\n",
        "plt.show()"
      ],
      "metadata": {
        "id": "nCzoZAQoD1_z"
      },
      "execution_count": null,
      "outputs": []
    }
  ]
}